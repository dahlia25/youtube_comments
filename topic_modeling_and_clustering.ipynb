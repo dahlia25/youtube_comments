{
 "cells": [
  {
   "cell_type": "markdown",
   "metadata": {},
   "source": [
    "## Topic Modeling: to subset 'Positive', 'Neutral', and 'Negative' comments"
   ]
  },
  {
   "cell_type": "code",
   "execution_count": 25,
   "metadata": {
    "ExecuteTime": {
     "end_time": "2018-08-24T23:14:23.869966Z",
     "start_time": "2018-08-24T23:14:23.509486Z"
    }
   },
   "outputs": [],
   "source": [
    "from sklearn.feature_extraction.text import TfidfVectorizer\n",
    "from sklearn.decomposition import TruncatedSVD"
   ]
  },
  {
   "cell_type": "code",
   "execution_count": 26,
   "metadata": {
    "ExecuteTime": {
     "end_time": "2018-08-24T23:14:25.965569Z",
     "start_time": "2018-08-24T23:14:25.959274Z"
    }
   },
   "outputs": [],
   "source": [
    "def display_topics(model, feature_names, no_top_words, topic_names=None):\n",
    "    for ix, topic in enumerate(model.components_):\n",
    "        if not topic_names or not topic_names[ix]:\n",
    "            print(\"\\nTopic \", ix)\n",
    "        else:\n",
    "            print(\"\\nTopic: '\",topic_names[ix],\"'\")\n",
    "        print(\", \".join([feature_names[i]\n",
    "                        for i in topic.argsort()[:-no_top_words - 1:-1]]))"
   ]
  },
  {
   "cell_type": "markdown",
   "metadata": {},
   "source": [
    "**Topic Model on Positive Comments**"
   ]
  },
  {
   "cell_type": "code",
   "execution_count": 27,
   "metadata": {
    "ExecuteTime": {
     "end_time": "2018-08-24T23:14:49.314530Z",
     "start_time": "2018-08-24T23:14:39.428317Z"
    }
   },
   "outputs": [],
   "source": [
    "# Text cleaning prior to topic modeling\n",
    "words = set(nltk.corpus.words.words())\n",
    "stop_words = stopwords.words('english')\n",
    "stop_words += ['poppy','really','like','im','love','theyre','oh','xd','xD','XD','eh','la','ur','']\n",
    "\n",
    "positive_comments = pd.Series(positive_comments)\n",
    "\n",
    "# remove all English stopwords\n",
    "positive_comments = positive_comments.apply(lambda x: ' '.join(w for w in x.split() if w not in stop_words))\n",
    "\n",
    "# remove more non-English words that were missed\n",
    "positive_comments = positive_comments.apply(lambda x: ' '.join(w for w in nltk.wordpunct_tokenize(x) if w.lower() in words or not w.isalpha()))\n"
   ]
  },
  {
   "cell_type": "code",
   "execution_count": 28,
   "metadata": {
    "ExecuteTime": {
     "end_time": "2018-08-24T23:15:15.026353Z",
     "start_time": "2018-08-24T23:15:15.020905Z"
    }
   },
   "outputs": [],
   "source": [
    "tfidf_vectorizer = TfidfVectorizer(ngram_range=(2, 2),  \n",
    "                                   stop_words='english', \n",
    "                                   token_pattern=\"\\\\b[a-z][a-z]+\\\\b\",\n",
    "                                   lowercase=True,\n",
    "                                   max_df = 0.5)"
   ]
  },
  {
   "cell_type": "code",
   "execution_count": 29,
   "metadata": {
    "ExecuteTime": {
     "end_time": "2018-08-24T23:15:25.414995Z",
     "start_time": "2018-08-24T23:15:19.310037Z"
    }
   },
   "outputs": [],
   "source": [
    "tfidf_pos = tfidf_vectorizer.fit_transform(positive_comments)"
   ]
  },
  {
   "cell_type": "code",
   "execution_count": 30,
   "metadata": {
    "ExecuteTime": {
     "end_time": "2018-08-24T23:15:39.474793Z",
     "start_time": "2018-08-24T23:15:26.916818Z"
    }
   },
   "outputs": [],
   "source": [
    "n_comp = 30\n",
    "lsa = TruncatedSVD(n_components=n_comp)\n",
    "\n",
    "lsa_tfidf_pos = lsa.fit_transform(tfidf_pos)"
   ]
  },
  {
   "cell_type": "code",
   "execution_count": 31,
   "metadata": {
    "ExecuteTime": {
     "end_time": "2018-08-24T23:15:44.034047Z",
     "start_time": "2018-08-24T23:15:40.871470Z"
    },
    "scrolled": false
   },
   "outputs": [
    {
     "name": "stdout",
     "output_type": "stream",
     "text": [
      "\n",
      "Topic  0\n",
      "great video, video thanks, video thank, wow great, video great, video man, thank great, video amazing, hair great, good job, video beautiful, video good, video channel, great great, thanks great, song great, great job, great song, video song, video usual\n",
      "\n",
      "Topic  1\n",
      "good job, song good, job man, good good, great song, wow good, video good, good song, job good, job getting, amazing good, awesome good, job making, good work, great good, million good, job corinne, man good, got good, god bless\n",
      "\n",
      "Topic  2\n",
      "best song, great song, song album, best video, song good, song far, song video, song year, song world, god bless, great job, song great, song life, song best, wow best, beautiful song, music video, good work, song sure, good song\n",
      "\n",
      "Topic  3\n",
      "great song, song great, song video, song good, great job, song amazing, god bless, beautiful song, thanks great, music video, video great, voice great, thank great, great great, wow great, job great, great voice, song wait, good work, song faith\n",
      "\n",
      "Topic  4\n",
      "best video, video seen, video far, video watched, literally best, god bless, great job, probably best, amazing best, video time, video make, video thank, far best, video idea, wow best, song best, video world, video youve, video date, thats best\n",
      "\n",
      "Topic  5\n",
      "god bless, happy birthday, beautiful song, good song, thank god, bless man, bless family, bless god, bless beautiful, bless people, brother god, bless grandpa, bless president, amazing god, awesome god, song god, people god, music god, president trump, great job\n",
      "\n",
      "Topic  6\n",
      "happy birthday, birthday grace, birthday ni, birthday hope, birthday lay, birthday anna, birthday happy, birthday great, great day, happy happy, birthday jenna, birthday present, birthday queen, hope great, birthday squad, birthday yesterday, birthday birthday, squad happy, birthday daisy, birthday sorry\n",
      "\n",
      "Topic  7\n",
      "good song, song good, good good, finally good, nice song, actually good, feel good, song video, song great, beautiful song, music video, good work, video good, know good, voice good, song album, good music, song say, song best, great job\n",
      "\n",
      "Topic  8\n",
      "beautiful song, great job, song beautiful, song video, thank beautiful, beautiful video, music video, voice beautiful, beautiful beautiful, nice song, song great, amazing song, wow beautiful, video beautiful, absolutely beautiful, song voice, amazing great, song awesome, thanks beautiful, song talented\n",
      "\n",
      "Topic  9\n",
      "great job, amazing great, video great, song great, awesome great, amazing video, job man, wow great, absolutely amazing, thats great, man great, look good, job great, damn great, job look, job video, beautiful great, cool great, favorite song, amazing song\n",
      "\n",
      "Topic  10\n",
      "nice song, nice video, wow nice, song video, song music, song beautiful, song nice, song good, song thanks, song man, amazing song, song amazing, pretty nice, beautiful voice, awesome song, music video, song best, beautiful video, good nice, great work\n",
      "\n",
      "Topic  11\n",
      "nice video, good music, video good, video nice, look amazing, good work, video thank, video man, video video, video great, song nice, video best, great work, video subscribe, amazing video, video thanks, song good, wow wow, good video, video music\n",
      "\n",
      "Topic  12\n",
      "look good, good video, make look, good tho, good girl, good work, actually look, wow look, pretty good, good look, good luck, song good, jeans look, look amazing, good good, new song, dont look, thought look, good outfit, wow wow\n",
      "\n",
      "Topic  13\n",
      "yes yes, yes excited, yes thank, times yes, yes shield, yes watch, didnt know, stop watching, yes nice, god yes, look beautiful, say yes, yes far, wealth wealth, way better, rest peace, yes ready, yes song, yes thousand, good good\n",
      "\n",
      "Topic  14\n",
      "click bait, god real, god absolutely, real left, come try, real doubt, try debunk, invite reading, planet ago, debunk far, reading come, thats channel, help share, absolutely real, ago thats, left planet, come earth, different come, times different, far come\n",
      "\n",
      "Topic  15\n",
      "amazing song, wow amazing, song amazing, song video, amazing video, song good, music video, look amazing, amazing voice, video amazing, new song, great work, pretty cool, voice amazing, good work, good video, video song, favorite song, look pretty, song album\n",
      "\n",
      "Topic  16\n",
      "dont know, good video, amazing video, song good, wow amazing, good work, look amazing, good luck, song amazing, pretty good, new song, make video, know dont, know say, video dont, video good, favorite song, great work, way better, video amazing\n",
      "\n",
      "Topic  17\n",
      "good video, song good, good work, video good, pretty good, voice amazing, music good, pretty cool, good good, video song, music video, didnt know, thats good, wow good, song beautiful, ha ha, wealth wealth, video thanks, great good, amazing good\n",
      "\n",
      "Topic  18\n",
      "amazing video, wow amazing, good work, look amazing, song good, best thing, song beautiful, video amazing, music video, video great, look good, voice amazing, cool video, video thanks, video good, thank god, video thank, video song, beautiful video, thing seen\n",
      "\n",
      "Topic  19\n",
      "song good, good work, look good, good good, new song, good luck, dont know, make video, awesome song, song amazing, great work, didnt know, stop listening, wealth wealth, video good, amazing good, awesome good, pretty cool, way better, listening song\n",
      "\n",
      "Topic  20\n",
      "wow amazing, song good, honest trailer, wow wow, awesome video, stop watching, way better, amazing channel, perfect song, best thing, thing seen, dont know, amazing talented, nice video, look good, amazing job, pretty cool, look gorgeous, great job, amazing grace\n",
      "\n",
      "Topic  21\n",
      "good work, wow amazing, look amazing, awesome video, good video, video good, honest trailer, music video, good good, great work, amazing good, actually good, perfect song, good music, great good, stop watching, good song, awesome good, wow wow, look beautiful\n",
      "\n",
      "Topic  22\n",
      "look amazing, song good, make video, wow amazing, song beautiful, best thing, pretty good, amazing look, think look, song video, eye look, thing seen, voice amazing, pretty cool, ha ha, hair look, tutorial look, amazing anna, make look, girl look\n",
      "\n",
      "Topic  23\n",
      "music video, favorite song, song amazing, new favorite, look amazing, make video, video song, best music, song music, make music, song beautiful, good music, amazing music, wow amazing, rest peace, thank god, favorite video, song album, great music, better music\n",
      "\n",
      "Topic  24\n",
      "favorite song, new favorite, make video, amazing song, awesome video, song album, favorite video, amazing video, new song, honest trailer, good work, didnt know, great work, dear make, song video, good good, pretty good, actually good, song new, look pretty\n",
      "\n",
      "Topic  25\n",
      "song amazing, make video, favorite song, best thing, new favorite, wow amazing, awesome video, look amazing, song beautiful, amazing voice, thing seen, actually good, dear make, pretty cool, good video, video make, didnt know, song album, perfect song, hey make\n",
      "\n",
      "Topic  26\n",
      "make video, look beautiful, music video, great work, good music, beautiful video, dear make, thank god, amazing song, good work, absolutely beautiful, eye look, video make, say better, great comedian, suicide thinking, thought suicide, millions thought, gotten millions, times save\n",
      "\n",
      "Topic  27\n",
      "awesome video, look beautiful, pretty good, song amazing, look amazing, beautiful video, rest peace, thank god, awesome song, song good, song beautiful, wow awesome, best thing, good luck, video thanks, video amazing, music video, video thank, absolutely beautiful, thing seen\n",
      "\n",
      "Topic  28\n",
      "look beautiful, song amazing, best thing, favorite song, new favorite, honest trailer, song video, pretty cool, way better, pretty good, thing seen, awesome song, favorite video, eye look, wow amazing, song beautiful, good luck, didnt know, look amazing, song good\n",
      "\n",
      "Topic  29\n",
      "best thing, thing seen, good luck, music video, great work, wealth wealth, good music, rest peace, absolutely beautiful, stop watching, didnt know, say better, great comedian, gotten millions, thought suicide, times save, millions thought, suicide thinking, thinking times, way better\n"
     ]
    }
   ],
   "source": [
    "display_topics(lsa,tfidf_vectorizer.get_feature_names(),20)"
   ]
  },
  {
   "cell_type": "markdown",
   "metadata": {},
   "source": [
    "**Topic Model on Neutral Comments**"
   ]
  },
  {
   "cell_type": "code",
   "execution_count": 32,
   "metadata": {
    "ExecuteTime": {
     "end_time": "2018-08-24T23:18:34.457797Z",
     "start_time": "2018-08-24T23:18:30.269284Z"
    }
   },
   "outputs": [],
   "source": [
    "# Text cleaning prior to topic modeling\n",
    "words = set(nltk.corpus.words.words())\n",
    "stop_words = stopwords.words('english')\n",
    "stop_words += ['la','hi','oh','hey','el','en','tho','es','ni','gay','','im','ur','la','blah','cad','os','bom','da','cad','demi','eu','um','bom','mas']\n",
    "\n",
    "neutral_comments = pd.Series(neutral_comments)\n",
    "\n",
    "# remove all English stopwords\n",
    "neutral_comments = neutral_comments.apply(lambda x: ' '.join(w for w in x.split() if w not in stop_words))\n",
    "\n",
    "# remove all non-English words\n",
    "neutral_comments = neutral_comments.apply(lambda x: ' '.join(w for w in nltk.wordpunct_tokenize(x) if w.lower() in words or not w.isalpha()))\n",
    "\n"
   ]
  },
  {
   "cell_type": "code",
   "execution_count": 33,
   "metadata": {
    "ExecuteTime": {
     "end_time": "2018-08-24T23:18:36.174921Z",
     "start_time": "2018-08-24T23:18:36.146882Z"
    }
   },
   "outputs": [],
   "source": [
    "tfidf_vectorizer = TfidfVectorizer(ngram_range=(2, 2),  \n",
    "                                   stop_words='english', \n",
    "                                   token_pattern=\"\\\\b[a-z][a-z]+\\\\b\",\n",
    "                                   lowercase=True,\n",
    "                                   max_df = 0.5)"
   ]
  },
  {
   "cell_type": "code",
   "execution_count": 34,
   "metadata": {
    "ExecuteTime": {
     "end_time": "2018-08-24T23:18:39.873978Z",
     "start_time": "2018-08-24T23:18:37.553420Z"
    },
    "scrolled": true
   },
   "outputs": [],
   "source": [
    "tfidf_neu = tfidf_vectorizer.fit_transform(neutral_comments)"
   ]
  },
  {
   "cell_type": "code",
   "execution_count": 35,
   "metadata": {
    "ExecuteTime": {
     "end_time": "2018-08-24T23:18:46.240294Z",
     "start_time": "2018-08-24T23:18:41.221124Z"
    }
   },
   "outputs": [],
   "source": [
    "n_comp = 30\n",
    "lsa = TruncatedSVD(n_components=n_comp)\n",
    "\n",
    "lsa_tfidf_neu = lsa.fit_transform(tfidf_neu)"
   ]
  },
  {
   "cell_type": "code",
   "execution_count": 36,
   "metadata": {
    "ExecuteTime": {
     "end_time": "2018-08-24T23:18:48.722553Z",
     "start_time": "2018-08-24T23:18:47.602615Z"
    },
    "scrolled": false
   },
   "outputs": [
    {
     "name": "stdout",
     "output_type": "stream",
     "text": [
      "\n",
      "Topic  0\n",
      "whats song, song end, song beginning, end video, song background, song used, tell whats, song video, song sing, song start, song trailer, know song, know whats, beginning video, song time, song know, song whats, song min, song beat, song look\n",
      "\n",
      "Topic  1\n",
      "dont know, know song, know dont, know say, people dont, know feel, didnt know, know think, know watch, know whats, know real, know video, know watching, know got, know right, really dont, know spell, know believe, know times, know people\n",
      "\n",
      "Topic  2\n",
      "make video, need make, think make, video real, long make, video talking, video channel, dont make, come make, video day, video make, video happen, video explaining, video time, video trying, video year, video cleaning, know song, coyote make, video german\n",
      "\n",
      "Topic  3\n",
      "didnt know, know thing, know video, know sing, know jimmy, know half, know music, wait didnt, know channel, live didnt, know accent, really didnt, know coming, know trump, jimmy didnt, know cook, know season, know sister, know mike, know make\n",
      "\n",
      "Topic  4\n",
      "ice cream, cream cake, cream cone, vanilla ice, cone cake, chocolate vanilla, chocolate ice, soft serve, vanilla chocolate, serve ice, make ice, think ice, cake ice, giant ice, book quiz, cake book, cone ice, make giant, cream machine, quiz ice\n",
      "\n",
      "Topic  5\n",
      "music video, wait music, need music, new music, make music, check music, waiting music, official music, video song, song music, video come, thought music, video dope, video finally, long music, watching music, actual music, know music, whats music, video music\n",
      "\n",
      "Topic  6\n",
      "make cake, cake make, try make, cake wearing, dont make, cake self, cake image, cake lots, cake syrup, cake point, cake star, cake minute, cake city, cake dressed, cake fox, cake dont, cake based, daddy want, new movie, cake new\n",
      "\n",
      "Topic  7\n",
      "spend night, night house, night bed, night store, night park, night bridge, night public, night forest, corn field, night corn, night box, night pool, night car, night bathroom, night desert, night mall, night ride, night room, public toilet, night inside\n",
      "\n",
      "Topic  8\n",
      "rip chester, park rip, classic rip, deserve rip, went rip, meaning rip, chester turkey, chester forever, subscribe channel, forever hearts, chester hearts, hearts forever, quality content, sub sub, notification squad, pumpkin spice, thought said, need make, chester music, legend live\n",
      "\n",
      "Topic  9\n",
      "subscribe channel, channel subscribe, watch video, channel watch, subscribe subscribe, channel collins, channel new, mean world, collection subscribe, channel product, palette vacation, vacation collection, check want, want palette, new subscribe, channel daily, world subscribe, coconut cake, wonder woman, watch subscribe\n",
      "\n",
      "Topic  10\n",
      "know song, song end, anybody know, song trailer, song used, need know, song beginning, song video, song background, end video, dont need, comment section, song start, song new, song heart, song dont, song let, half trailer, song comment, song stay\n",
      "\n",
      "Topic  11\n",
      "new song, finally new, song lit, new video, check new, got new, waiting new, song album, watch new, react new, listen new, waiting long, long time, came new, need new, thats new, song week, song bout, song holy, really new\n",
      "\n",
      "Topic  12\n",
      "make giant, new song, giant cake, giant hot, giant bar, giant chicken, giant pizza, hot pocket, need make, giant bread, giant corn, pizza pop, harry potter, try make, giant ice, giant potato, make make, pumpkin spice, corn dog, giant cheese\n",
      "\n",
      "Topic  13\n",
      "watch video, video available, coconut cake, dont watch, didnt watch, video watch, want watch, new video, pumpkin spice, channel watch, whats music, unique year, pink white, new album, check watch, video channel, video end, video fast, cream cake, channel collins\n",
      "\n",
      "Topic  14\n",
      "notification squad, whats inside, coconut cake, wonder woman, unique year, plot twist, blade runner, early squad, inside balloon, whats music, squad ya, harry potter, post notification, waiting long, year old, pink white, long time, subscribe subscribe, inside son, watch video\n",
      "\n",
      "Topic  15\n",
      "whats inside, inside balloon, watching video, white people, click bait, inside son, black hole, dont want, inside human, inside air, damn good, whats music, sam smith, inside whats, video whats, math related, related science, inside black, inside glass, house tour\n",
      "\n",
      "Topic  16\n",
      "coconut cake, fidget spinner, dont think, comment section, damn good, click bait, whats inside, house tour, white people, harry potter, song lit, cake straw, waiting long, saw fidget, new video, watching video, cake book, know song, thats coconut, spinner video\n",
      "\n",
      "Topic  17\n",
      "fidget spinner, pink white, wonder woman, know song, whats song, saw fidget, new video, waiting long, pumpkin spice, unique year, earth flat, spinner video, turned fidget, plot twist, spinner jungle, dont need, notification squad, spinner fidget, make day, year old\n",
      "\n",
      "Topic  18\n",
      "song end, fidget spinner, end video, comment section, coconut cake, real life, waiting long, damn good, song lit, long time, thought thumbnail, pink white, cream cake, whats music, got ad, year old, need song, harry potter, click link, notification squad\n",
      "\n",
      "Topic  19\n",
      "dont think, fidget spinner, unique year, pink white, song end, pumpkin spice, wonder woman, real life, whats music, plot twist, notification squad, new album, background music, math related, related science, watch video, got right, sam smith, think thats, make day\n",
      "\n",
      "Topic  20\n",
      "damn good, sam smith, sub sub, real life, background music, dont think, plot twist, dont want, good song, cream cake, video damn, good gangster, year old, whats music, need life, nail polish, good job, wait movie, video available, notification squad\n",
      "\n",
      "Topic  21\n",
      "pink white, watching video, dont understand, sub sub, real life, damn good, blade runner, click bait, time watching, green grey, coconut cake, comment section, earth flat, early squad, shoe pink, waiting long, grey mint, long time, watched video, cream cake\n",
      "\n",
      "Topic  22\n",
      "watching video, dont understand, waiting long, pumpkin spice, plot twist, unique year, year old, damn good, long time, sub sub, time watching, comment section, cream cake, fidget spinner, early squad, song end, dont think, earth flat, notification squad, need life\n",
      "\n",
      "Topic  23\n",
      "white people, pumpkin spice, watching video, sub sub, pink white, wonder woman, damn good, wait till, blade runner, spice cake, song lit, plot twist, dont want, long time, house tour, thought said, early squad, black people, notification squad, subscribe subscribe\n",
      "\n",
      "Topic  24\n",
      "unique year, white people, sub sub, pink white, song lit, quality content, year old, pumpkin spice, watching video, thought said, harry potter, dont want, coconut cake, click link, comment section, want know, wait till, face reveal, watched video, green grey\n",
      "\n",
      "Topic  25\n",
      "white people, real life, dont understand, wonder woman, unique year, new video, song lit, quality content, plot twist, thought said, video available, want know, sub sub, math related, related science, havent seen, click link, make day, dont want, year old\n",
      "\n",
      "Topic  26\n",
      "waiting long, white people, long time, quality content, whats music, harry potter, dont need, dont think, plot twist, new york, math related, related science, new album, fidget spinner, got ad, sub sub, make money, baby driver, black white, green day\n",
      "\n",
      "Topic  27\n",
      "waiting long, dont want, dont understand, quality content, pumpkin spice, song lit, long time, wonder woman, unique year, pink white, background music, real life, click bait, sam smith, year old, black hole, whats music, damn good, watch movie, want live\n",
      "\n",
      "Topic  28\n",
      "real life, quality content, waiting long, blade runner, plot twist, looking forward, watching video, house tour, pumpkin spice, nail polish, black hole, thought thumbnail, wait album, harry potter, green day, long time, math related, need life, related science, subscribe subscribe\n",
      "\n",
      "Topic  29\n",
      "sub sub, real life, house tour, whats music, waiting long, song lit, new album, new video, cream cone, comment section, blade runner, background music, looking forward, wait new, sub comment, dont think, eye look, pumpkin spice, need make, cone cake\n"
     ]
    }
   ],
   "source": [
    "display_topics(lsa,tfidf_vectorizer.get_feature_names(),20)"
   ]
  },
  {
   "cell_type": "markdown",
   "metadata": {},
   "source": [
    "**Topic Model on Negative Comments**"
   ]
  },
  {
   "cell_type": "code",
   "execution_count": 37,
   "metadata": {
    "ExecuteTime": {
     "end_time": "2018-08-24T23:18:56.451689Z",
     "start_time": "2018-08-24T23:18:50.398187Z"
    }
   },
   "outputs": [],
   "source": [
    "# Text cleaning prior to topic modeling\n",
    "words = set(nltk.corpus.words.words())\n",
    "stop_words = stopwords.words('english')\n",
    "stop_words += ['oh','know','yeah','yea','man','guy','like','si','god','damn','look','er','yo','ill','hi','im','ur',\n",
    "               'hell','yes','po','box','people','love','good','holy','really','','blah','la']\n",
    "\n",
    "negative_comments = pd.Series(negative_comments)\n",
    "\n",
    "# remove all English stopwords\n",
    "negative_comments = negative_comments.apply(lambda x: ' '.join(w for w in x.split() if w not in stop_words))\n",
    "\n",
    "# remove all non-English words\n",
    "negative_comments = negative_comments.apply(lambda x: ' '.join(w for w in nltk.wordpunct_tokenize(x) if w.lower() in words or not w.isalpha()))\n"
   ]
  },
  {
   "cell_type": "code",
   "execution_count": 38,
   "metadata": {
    "ExecuteTime": {
     "end_time": "2018-08-24T23:18:57.733965Z",
     "start_time": "2018-08-24T23:18:57.718425Z"
    }
   },
   "outputs": [],
   "source": [
    "tfidf_vectorizer = TfidfVectorizer(ngram_range=(2, 2),  \n",
    "                                   stop_words=stop_words, \n",
    "                                   token_pattern=\"\\\\b[a-z][a-z]+\\\\b\",\n",
    "                                   lowercase=True,\n",
    "                                   max_df = 0.5)"
   ]
  },
  {
   "cell_type": "code",
   "execution_count": 39,
   "metadata": {
    "ExecuteTime": {
     "end_time": "2018-08-24T23:19:02.299523Z",
     "start_time": "2018-08-24T23:18:59.004590Z"
    }
   },
   "outputs": [],
   "source": [
    "tfidf_neg = tfidf_vectorizer.fit_transform(negative_comments)"
   ]
  },
  {
   "cell_type": "code",
   "execution_count": 40,
   "metadata": {
    "ExecuteTime": {
     "end_time": "2018-08-24T23:19:09.410466Z",
     "start_time": "2018-08-24T23:19:03.491527Z"
    }
   },
   "outputs": [],
   "source": [
    "n_comp = 30\n",
    "lsa = TruncatedSVD(n_components=n_comp)\n",
    "\n",
    "lsa_tfidf_neg = lsa.fit_transform(tfidf_neg)\n"
   ]
  },
  {
   "cell_type": "code",
   "execution_count": 41,
   "metadata": {
    "ExecuteTime": {
     "end_time": "2018-08-24T23:19:12.724405Z",
     "start_time": "2018-08-24T23:19:10.614531Z"
    },
    "scrolled": true
   },
   "outputs": [
    {
     "name": "stdout",
     "output_type": "stream",
     "text": [
      "\n",
      "Topic  0\n",
      "fake news, news fake, stop fake, fake fake, real fake, news right, fox news, news alive, news false, hate fake, trump fake, show fake, news thing, news alert, say fake, seth fake, liberal fake, bill fake, news fact, news move\n",
      "\n",
      "Topic  1\n",
      "everything wrong, wrong movie, wrong please, make everything, please everything, need everything, wrong one, death note, waiting everything, wrong death, still waiting, last knight, wrong last, wrong life, wrong wonder, wrong mean, wrong part, wrong cult, wrong baby, wrong bee\n",
      "\n",
      "Topic  2\n",
      "feel bad, bad dont, else feel, anyone else, sad feel, bad sorry, bad person, honestly feel, funny feel, bad eat, always feel, bad got, bad living, bad cant, bad poor, bad still, bad way, bad watching, bad child, bad headphone\n",
      "\n",
      "Topic  3\n",
      "made cry, video made, cry much, almost made, song made, cry baby, legit made, literally made, cry hard, cry cant, cant wait, actually made, cry miss, cry lot, cant stop, cry get, scene made, kill made, totally made, cry video\n",
      "\n",
      "Topic  4\n",
      "walking dead, dont care, dead un, dead part, dead next, dead anime, amazing walking, cant wait, fear walking, dead season, dead please, nice walking, bacon walking, become walking, cross walking, dead reunion, going walking, dead corporate, sent walking, something walking\n",
      "\n",
      "Topic  5\n",
      "dont care, cant wait, authentic dot, buy authentic, care dont, care anyone, care buy, care got, care say, care think, care want, care much, care still, care care, care even, headphone jack, care us, hate dont, care movie, care one\n",
      "\n",
      "Topic  6\n",
      "cant wait, wait see, wait play, wait till, sick cant, wait amazing, seriously cant, play game, wait cinema, fire cant, wait album, bad cant, wait much, wait watch, wait movie, crying cant, wait get, straight fire, feel cant, wait day\n",
      "\n",
      "Topic  7\n",
      "miss old, old hair, old dont, much miss, old school, cut hair, cry miss, old music, old funny, ni miss, old maroon, old enter, old type, old team, old crew, old outfit, old bunny, old teeth, old food, old member\n",
      "\n",
      "Topic  8\n",
      "stop laughing, cant stop, laughing watching, could stop, stop watching, stop listening, stop smiling, watching video, cannot stop, laughing cant, lit cant, laughing genius, laughing try, laughing whole, whole video, banana stop, laughing video, thats said, laughing technique, rocket stop\n",
      "\n",
      "Topic  9\n",
      "whats wrong, wrong face, wrong voice, thats whats, wrong video, wrong world, dislike video, wrong white, video whats, wrong hair, seriously whats, wrong hate, wrong got, wrong trump, wrong liking, wrong else, wrong apple, wrong defense, wrong shoulder, wrong bow\n",
      "\n",
      "Topic  10\n",
      "anyone else, else think, whats wrong, else see, else get, else feel, else hate, else notice, miss chester, dont think, else hear, cant believe, else fake, leave alone, else getting, else cry, else find, else miss, wasnt funny, miss much\n",
      "\n",
      "Topic  11\n",
      "rip petty, miss chester, petty music, sad rip, petty legend, petty official, petty talent, boy rip, petty deeply, cut hair, dont even, want kill, legend gone, dont get, leave alone, every time, performance rip, sorry performance, make cry, music video\n",
      "\n",
      "Topic  12\n",
      "miss chester, chester much, chester rip, chester miss, death note, horror movie, dont understand, still miss, sub sub, headphone jack, legendary miss, suck dick, sub back, comment section, chester annoying, hate miss, thats sad, voice annoying, go home, worst ever\n",
      "\n",
      "Topic  13\n",
      "sub sub, sub back, channel sub, subscribe sub, small sub, sub channel, comment done, anyone sub, subscribe channel, something wrong, sub comment, would dislike, song fire, sub done, miss much, go back, press sub, get sub, back simple, done done\n",
      "\n",
      "Topic  14\n",
      "heart attack, almost heart, attack heart, gave heart, give heart, dont get, attack plate, would dislike, death note, waste time, cut hair, attack watching, gotten heart, got heart, dont even, video heart, almost gave, think heart, didnt heart, thanks heart\n",
      "\n",
      "Topic  15\n",
      "thought dead, ever seen, leave alone, headphone jack, dont even, voice annoying, comment section, dont understand, dumb ass, wait thought, replay button, make cry, worst ever, death note, straight fire, fake ass, else thought, broke replay, stop making, dead still\n",
      "\n",
      "Topic  16\n",
      "ever seen, worst ever, dont get, thing ever, dont think, video ever, one worst, music video, headphone jack, suck dick, one ever, movie ever, dumb ass, worst thing, death note, voice annoying, dont want, cant believe, dont even, comment section\n",
      "\n",
      "Topic  17\n",
      "dont get, dont understand, every time, dont want, dont even, still dont, cant believe, headphone jack, get video, go home, dont think, home drunk, hate dont, video dont, get dont, miss much, get joke, dont watch, waste money, get hate\n",
      "\n",
      "Topic  18\n",
      "leave alone, suck dick, dont understand, dont get, death note, would dislike, horror movie, song fire, comment section, waste time, racist leave, drag race, cant leave, de de, almost cried, kick ass, ever seen, ass leave, alone leave, worst ever\n",
      "\n",
      "Topic  19\n",
      "miss much, death note, dont get, leave alone, song fire, horror movie, breaking bad, wasnt funny, note movie, juice loose, sorry loss, dont understand, bad ass, waste money, wrong death, ever seen, go home, crying cool, cool way, much chester\n",
      "\n",
      "Topic  20\n",
      "death note, every time, miss much, leave alone, suck dick, dont even, dont want, headphone jack, note movie, dont think, song fire, cant believe, waste money, cry every, wrong death, time see, make death, shot every, time hear, take shot\n",
      "\n",
      "Topic  21\n",
      "suck dick, dont even, miss much, voice annoying, dont want, comment section, horror movie, make cry, juice loose, wasnt funny, replay button, would suck, goes hard, even funny, ever seen, go suck, broke replay, cut hair, even care, thought dead\n",
      "\n",
      "Topic  22\n",
      "music video, suck dick, song fire, death note, dont get, video ever, make cry, dont understand, official music, sorry loss, thats crazy, worst music, check official, breaking bad, de de, want kill, even funny, fake ass, waste time, miss music\n",
      "\n",
      "Topic  23\n",
      "dont even, headphone jack, dont understand, music video, dont want, leave alone, dont think, waste time, would dislike, cant believe, even care, song fire, sorry loss, horror movie, juice loose, jack buy, even get, want see, dislike video, jack deal\n",
      "\n",
      "Topic  24\n",
      "headphone jack, miss much, leave alone, song fire, voice annoying, every time, music video, waste time, jack buy, want kill, jack deal, dont get, replay button, still headphone, goes hard, de de, lost weight, cut hair, thing ever, first time\n",
      "\n",
      "Topic  25\n",
      "dont want, voice annoying, song fire, music video, leave alone, want die, want see, every time, wasnt funny, miss much, would dislike, cant believe, thats sad, dont dont, dumb ass, make cry, video dont, want player, want dont, want talk\n",
      "\n",
      "Topic  26\n",
      "song fire, dont even, cant believe, dont think, dumb ass, wasnt funny, worst ever, voice annoying, something wrong, death note, give us, thats crazy, us eternal, dead give, juice loose, dont get, also heal, suck dick, eternal also, rose dead\n",
      "\n",
      "Topic  27\n",
      "go back, song fire, would go, dont understand, comment section, dont want, dont think, back time, wasnt funny, worst ever, time stop, bad ass, id go, dumb ass, sorry loss, cut hair, stop making, long time, would dislike, want kill\n",
      "\n",
      "Topic  28\n",
      "dont understand, voice annoying, go back, would dislike, every time, dumb ass, cant believe, song fire, miss much, ever seen, would go, dislike video, back time, doesnt even, still dont, lost weight, year old, dont even, thats sad, crying cool\n",
      "\n",
      "Topic  29\n",
      "headphone jack, dont understand, cut hair, death note, voice annoying, dont want, suck dick, give us, go back, us eternal, dead give, also heal, eternal also, rose dead, son rose, sending son, heal ask, us sending, sorry loss, wasnt funny\n"
     ]
    }
   ],
   "source": [
    "display_topics(lsa,tfidf_vectorizer.get_feature_names(),20)"
   ]
  },
  {
   "cell_type": "markdown",
   "metadata": {},
   "source": [
    "  ## Clustering"
   ]
  },
  {
   "cell_type": "code",
   "execution_count": 301,
   "metadata": {
    "ExecuteTime": {
     "end_time": "2018-08-23T17:58:41.914166Z",
     "start_time": "2018-08-23T17:58:41.910275Z"
    }
   },
   "outputs": [],
   "source": [
    "from sklearn.cluster import KMeans\n",
    "from sklearn.manifold import TSNE\n",
    "from sklearn.preprocessing import StandardScaler"
   ]
  },
  {
   "cell_type": "code",
   "execution_count": 316,
   "metadata": {
    "ExecuteTime": {
     "end_time": "2018-08-23T18:15:31.693484Z",
     "start_time": "2018-08-23T18:15:30.663590Z"
    }
   },
   "outputs": [],
   "source": [
    "X_pos = StandardScaler().fit_transform(lsa_tfidf_pos)\n",
    "X_neu = StandardScaler().fit_transform(lsa_tfidf_neu)\n",
    "X_neg = StandardScaler().fit_transform(lsa_tfidf_neg)"
   ]
  },
  {
   "cell_type": "code",
   "execution_count": 303,
   "metadata": {
    "ExecuteTime": {
     "end_time": "2018-08-23T17:58:49.573828Z",
     "start_time": "2018-08-23T17:58:49.567450Z"
    }
   },
   "outputs": [
    {
     "data": {
      "text/plain": [
       "((223438, 30), (196900, 50), (97130, 70))"
      ]
     },
     "execution_count": 303,
     "metadata": {},
     "output_type": "execute_result"
    }
   ],
   "source": [
    "X_pos.shape, X_neu.shape, X_neg.shape"
   ]
  },
  {
   "cell_type": "markdown",
   "metadata": {},
   "source": [
    "### K-Means & SSE"
   ]
  },
  {
   "cell_type": "markdown",
   "metadata": {},
   "source": [
    "**Positive Comments**"
   ]
  },
  {
   "cell_type": "code",
   "execution_count": 67,
   "metadata": {
    "ExecuteTime": {
     "end_time": "2018-08-22T23:32:31.514147Z",
     "start_time": "2018-08-22T23:23:31.000962Z"
    },
    "collapsed": true
   },
   "outputs": [
    {
     "name": "stdout",
     "output_type": "stream",
     "text": [
      "cluster 35\n",
      "cluster 36\n",
      "cluster 37\n",
      "cluster 38\n",
      "cluster 39\n",
      "cluster 40\n",
      "cluster 41\n",
      "cluster 42\n",
      "cluster 43\n",
      "cluster 44\n",
      "cluster 45\n",
      "cluster 46\n",
      "cluster 47\n",
      "cluster 48\n",
      "cluster 49\n"
     ]
    }
   ],
   "source": [
    "k_clusters = range(35,50)\n",
    "SSEs = []\n",
    "\n",
    "for k in k_clusters:\n",
    "    print(f'cluster {k}')\n",
    "    km = KMeans(n_clusters=k, random_state=28)\n",
    "    km.fit(X_pos)\n",
    "    SSEs.append(km.inertia_)"
   ]
  },
  {
   "cell_type": "code",
   "execution_count": 68,
   "metadata": {
    "ExecuteTime": {
     "end_time": "2018-08-22T23:33:34.380781Z",
     "start_time": "2018-08-22T23:33:34.225497Z"
    }
   },
   "outputs": [
    {
     "data": {
      "image/png": "[encoded data removed]",
      "text/plain": [
       "<Figure size 432x288 with 1 Axes>"
      ]
     },
     "metadata": {},
     "output_type": "display_data"
    }
   ],
   "source": [
    "# Already ran cluster numbers 2 - 35 before, and found no \"elbow\" point. \n",
    "#Indicative that there are no good number of clusters.\n",
    "# Could not run silhoutte score because caused kernel to crash.\n",
    "plt.plot(k_clusters, SSEs)\n",
    "plt.xlabel('number of clusters')\n",
    "plt.ylabel('SSE')\n",
    "plt.show()"
   ]
  },
  {
   "cell_type": "markdown",
   "metadata": {},
   "source": [
    "### K-Means & TSNE"
   ]
  },
  {
   "cell_type": "markdown",
   "metadata": {},
   "source": [
    "**Clustering Positive Comments** to quick check what clusters look like"
   ]
  },
  {
   "cell_type": "code",
   "execution_count": 416,
   "metadata": {
    "ExecuteTime": {
     "end_time": "2018-08-24T05:20:36.705096Z",
     "start_time": "2018-08-24T05:20:19.432281Z"
    }
   },
   "outputs": [],
   "source": [
    "km = KMeans(n_clusters=30, random_state=28)\n",
    "pos_km = km.fit_predict(X_pos)"
   ]
  },
  {
   "cell_type": "code",
   "execution_count": 411,
   "metadata": {
    "ExecuteTime": {
     "end_time": "2018-08-24T05:10:53.955665Z",
     "start_time": "2018-08-23T22:55:53.250512Z"
    },
    "collapsed": true
   },
   "outputs": [
    {
     "name": "stdout",
     "output_type": "stream",
     "text": [
      "[t-SNE] Computing 13 nearest neighbors...\n",
      "[t-SNE] Indexed 223438 samples in 19.643s...\n",
      "[t-SNE] Computed neighbors for 223438 samples in 944.041s...\n",
      "[t-SNE] Computed conditional probabilities for sample 1000 / 223438\n",
      "[t-SNE] Computed conditional probabilities for sample 2000 / 223438\n",
      "[t-SNE] Computed conditional probabilities for sample 3000 / 223438\n",
      "[t-SNE] Computed conditional probabilities for sample 4000 / 223438\n",
      "[t-SNE] Computed conditional probabilities for sample 5000 / 223438\n",
      "[t-SNE] Computed conditional probabilities for sample 6000 / 223438\n",
      "[t-SNE] Computed conditional probabilities for sample 7000 / 223438\n",
      "[t-SNE] Computed conditional probabilities for sample 8000 / 223438\n",
      "[t-SNE] Computed conditional probabilities for sample 9000 / 223438\n",
      "[t-SNE] Computed conditional probabilities for sample 10000 / 223438\n",
      "[t-SNE] Computed conditional probabilities for sample 11000 / 223438\n",
      "[t-SNE] Computed conditional probabilities for sample 12000 / 223438\n",
      "[t-SNE] Computed conditional probabilities for sample 13000 / 223438\n",
      "[t-SNE] Computed conditional probabilities for sample 14000 / 223438\n",
      "[t-SNE] Computed conditional probabilities for sample 15000 / 223438\n",
      "[t-SNE] Computed conditional probabilities for sample 16000 / 223438\n",
      "[t-SNE] Computed conditional probabilities for sample 17000 / 223438\n",
      "[t-SNE] Computed conditional probabilities for sample 18000 / 223438\n",
      "[t-SNE] Computed conditional probabilities for sample 19000 / 223438\n",
      "[t-SNE] Computed conditional probabilities for sample 20000 / 223438\n",
      "[t-SNE] Computed conditional probabilities for sample 21000 / 223438\n",
      "[t-SNE] Computed conditional probabilities for sample 22000 / 223438\n",
      "[t-SNE] Computed conditional probabilities for sample 23000 / 223438\n",
      "[t-SNE] Computed conditional probabilities for sample 24000 / 223438\n",
      "[t-SNE] Computed conditional probabilities for sample 25000 / 223438\n",
      "[t-SNE] Computed conditional probabilities for sample 26000 / 223438\n",
      "[t-SNE] Computed conditional probabilities for sample 27000 / 223438\n",
      "[t-SNE] Computed conditional probabilities for sample 28000 / 223438\n",
      "[t-SNE] Computed conditional probabilities for sample 29000 / 223438\n",
      "[t-SNE] Computed conditional probabilities for sample 30000 / 223438\n",
      "[t-SNE] Computed conditional probabilities for sample 31000 / 223438\n",
      "[t-SNE] Computed conditional probabilities for sample 32000 / 223438\n",
      "[t-SNE] Computed conditional probabilities for sample 33000 / 223438\n",
      "[t-SNE] Computed conditional probabilities for sample 34000 / 223438\n",
      "[t-SNE] Computed conditional probabilities for sample 35000 / 223438\n",
      "[t-SNE] Computed conditional probabilities for sample 36000 / 223438\n",
      "[t-SNE] Computed conditional probabilities for sample 37000 / 223438\n",
      "[t-SNE] Computed conditional probabilities for sample 38000 / 223438\n",
      "[t-SNE] Computed conditional probabilities for sample 39000 / 223438\n",
      "[t-SNE] Computed conditional probabilities for sample 40000 / 223438\n",
      "[t-SNE] Computed conditional probabilities for sample 41000 / 223438\n",
      "[t-SNE] Computed conditional probabilities for sample 42000 / 223438\n",
      "[t-SNE] Computed conditional probabilities for sample 43000 / 223438\n",
      "[t-SNE] Computed conditional probabilities for sample 44000 / 223438\n",
      "[t-SNE] Computed conditional probabilities for sample 45000 / 223438\n",
      "[t-SNE] Computed conditional probabilities for sample 46000 / 223438\n",
      "[t-SNE] Computed conditional probabilities for sample 47000 / 223438\n",
      "[t-SNE] Computed conditional probabilities for sample 48000 / 223438\n",
      "[t-SNE] Computed conditional probabilities for sample 49000 / 223438\n",
      "[t-SNE] Computed conditional probabilities for sample 50000 / 223438\n",
      "[t-SNE] Computed conditional probabilities for sample 51000 / 223438\n",
      "[t-SNE] Computed conditional probabilities for sample 52000 / 223438\n",
      "[t-SNE] Computed conditional probabilities for sample 53000 / 223438\n",
      "[t-SNE] Computed conditional probabilities for sample 54000 / 223438\n",
      "[t-SNE] Computed conditional probabilities for sample 55000 / 223438\n",
      "[t-SNE] Computed conditional probabilities for sample 56000 / 223438\n",
      "[t-SNE] Computed conditional probabilities for sample 57000 / 223438\n",
      "[t-SNE] Computed conditional probabilities for sample 58000 / 223438\n",
      "[t-SNE] Computed conditional probabilities for sample 59000 / 223438\n",
      "[t-SNE] Computed conditional probabilities for sample 60000 / 223438\n",
      "[t-SNE] Computed conditional probabilities for sample 61000 / 223438\n",
      "[t-SNE] Computed conditional probabilities for sample 62000 / 223438\n",
      "[t-SNE] Computed conditional probabilities for sample 63000 / 223438\n",
      "[t-SNE] Computed conditional probabilities for sample 64000 / 223438\n",
      "[t-SNE] Computed conditional probabilities for sample 65000 / 223438\n",
      "[t-SNE] Computed conditional probabilities for sample 66000 / 223438\n",
      "[t-SNE] Computed conditional probabilities for sample 67000 / 223438\n",
      "[t-SNE] Computed conditional probabilities for sample 68000 / 223438\n",
      "[t-SNE] Computed conditional probabilities for sample 69000 / 223438\n",
      "[t-SNE] Computed conditional probabilities for sample 70000 / 223438\n",
      "[t-SNE] Computed conditional probabilities for sample 71000 / 223438\n",
      "[t-SNE] Computed conditional probabilities for sample 72000 / 223438\n",
      "[t-SNE] Computed conditional probabilities for sample 73000 / 223438\n",
      "[t-SNE] Computed conditional probabilities for sample 74000 / 223438\n",
      "[t-SNE] Computed conditional probabilities for sample 75000 / 223438\n",
      "[t-SNE] Computed conditional probabilities for sample 76000 / 223438\n",
      "[t-SNE] Computed conditional probabilities for sample 77000 / 223438\n",
      "[t-SNE] Computed conditional probabilities for sample 78000 / 223438\n",
      "[t-SNE] Computed conditional probabilities for sample 79000 / 223438\n",
      "[t-SNE] Computed conditional probabilities for sample 80000 / 223438\n",
      "[t-SNE] Computed conditional probabilities for sample 81000 / 223438\n",
      "[t-SNE] Computed conditional probabilities for sample 82000 / 223438\n",
      "[t-SNE] Computed conditional probabilities for sample 83000 / 223438\n",
      "[t-SNE] Computed conditional probabilities for sample 84000 / 223438\n",
      "[t-SNE] Computed conditional probabilities for sample 85000 / 223438\n",
      "[t-SNE] Computed conditional probabilities for sample 86000 / 223438\n",
      "[t-SNE] Computed conditional probabilities for sample 87000 / 223438\n",
      "[t-SNE] Computed conditional probabilities for sample 88000 / 223438\n",
      "[t-SNE] Computed conditional probabilities for sample 89000 / 223438\n",
      "[t-SNE] Computed conditional probabilities for sample 90000 / 223438\n",
      "[t-SNE] Computed conditional probabilities for sample 91000 / 223438\n",
      "[t-SNE] Computed conditional probabilities for sample 92000 / 223438\n",
      "[t-SNE] Computed conditional probabilities for sample 93000 / 223438\n",
      "[t-SNE] Computed conditional probabilities for sample 94000 / 223438\n",
      "[t-SNE] Computed conditional probabilities for sample 95000 / 223438\n",
      "[t-SNE] Computed conditional probabilities for sample 96000 / 223438\n",
      "[t-SNE] Computed conditional probabilities for sample 97000 / 223438\n",
      "[t-SNE] Computed conditional probabilities for sample 98000 / 223438\n",
      "[t-SNE] Computed conditional probabilities for sample 99000 / 223438\n",
      "[t-SNE] Computed conditional probabilities for sample 100000 / 223438\n",
      "[t-SNE] Computed conditional probabilities for sample 101000 / 223438\n",
      "[t-SNE] Computed conditional probabilities for sample 102000 / 223438\n",
      "[t-SNE] Computed conditional probabilities for sample 103000 / 223438\n",
      "[t-SNE] Computed conditional probabilities for sample 104000 / 223438\n",
      "[t-SNE] Computed conditional probabilities for sample 105000 / 223438\n",
      "[t-SNE] Computed conditional probabilities for sample 106000 / 223438\n",
      "[t-SNE] Computed conditional probabilities for sample 107000 / 223438\n",
      "[t-SNE] Computed conditional probabilities for sample 108000 / 223438\n",
      "[t-SNE] Computed conditional probabilities for sample 109000 / 223438\n",
      "[t-SNE] Computed conditional probabilities for sample 110000 / 223438\n",
      "[t-SNE] Computed conditional probabilities for sample 111000 / 223438\n",
      "[t-SNE] Computed conditional probabilities for sample 112000 / 223438\n",
      "[t-SNE] Computed conditional probabilities for sample 113000 / 223438\n",
      "[t-SNE] Computed conditional probabilities for sample 114000 / 223438\n",
      "[t-SNE] Computed conditional probabilities for sample 115000 / 223438\n",
      "[t-SNE] Computed conditional probabilities for sample 116000 / 223438\n",
      "[t-SNE] Computed conditional probabilities for sample 117000 / 223438\n",
      "[t-SNE] Computed conditional probabilities for sample 118000 / 223438\n",
      "[t-SNE] Computed conditional probabilities for sample 119000 / 223438\n",
      "[t-SNE] Computed conditional probabilities for sample 120000 / 223438\n",
      "[t-SNE] Computed conditional probabilities for sample 121000 / 223438\n",
      "[t-SNE] Computed conditional probabilities for sample 122000 / 223438\n"
     ]
    },
    {
     "name": "stdout",
     "output_type": "stream",
     "text": [
      "[t-SNE] Computed conditional probabilities for sample 123000 / 223438\n",
      "[t-SNE] Computed conditional probabilities for sample 124000 / 223438\n",
      "[t-SNE] Computed conditional probabilities for sample 125000 / 223438\n",
      "[t-SNE] Computed conditional probabilities for sample 126000 / 223438\n",
      "[t-SNE] Computed conditional probabilities for sample 127000 / 223438\n",
      "[t-SNE] Computed conditional probabilities for sample 128000 / 223438\n",
      "[t-SNE] Computed conditional probabilities for sample 129000 / 223438\n",
      "[t-SNE] Computed conditional probabilities for sample 130000 / 223438\n",
      "[t-SNE] Computed conditional probabilities for sample 131000 / 223438\n",
      "[t-SNE] Computed conditional probabilities for sample 132000 / 223438\n",
      "[t-SNE] Computed conditional probabilities for sample 133000 / 223438\n",
      "[t-SNE] Computed conditional probabilities for sample 134000 / 223438\n",
      "[t-SNE] Computed conditional probabilities for sample 135000 / 223438\n",
      "[t-SNE] Computed conditional probabilities for sample 136000 / 223438\n",
      "[t-SNE] Computed conditional probabilities for sample 137000 / 223438\n",
      "[t-SNE] Computed conditional probabilities for sample 138000 / 223438\n",
      "[t-SNE] Computed conditional probabilities for sample 139000 / 223438\n",
      "[t-SNE] Computed conditional probabilities for sample 140000 / 223438\n",
      "[t-SNE] Computed conditional probabilities for sample 141000 / 223438\n",
      "[t-SNE] Computed conditional probabilities for sample 142000 / 223438\n",
      "[t-SNE] Computed conditional probabilities for sample 143000 / 223438\n",
      "[t-SNE] Computed conditional probabilities for sample 144000 / 223438\n",
      "[t-SNE] Computed conditional probabilities for sample 145000 / 223438\n",
      "[t-SNE] Computed conditional probabilities for sample 146000 / 223438\n",
      "[t-SNE] Computed conditional probabilities for sample 147000 / 223438\n",
      "[t-SNE] Computed conditional probabilities for sample 148000 / 223438\n",
      "[t-SNE] Computed conditional probabilities for sample 149000 / 223438\n",
      "[t-SNE] Computed conditional probabilities for sample 150000 / 223438\n",
      "[t-SNE] Computed conditional probabilities for sample 151000 / 223438\n",
      "[t-SNE] Computed conditional probabilities for sample 152000 / 223438\n",
      "[t-SNE] Computed conditional probabilities for sample 153000 / 223438\n",
      "[t-SNE] Computed conditional probabilities for sample 154000 / 223438\n",
      "[t-SNE] Computed conditional probabilities for sample 155000 / 223438\n",
      "[t-SNE] Computed conditional probabilities for sample 156000 / 223438\n",
      "[t-SNE] Computed conditional probabilities for sample 157000 / 223438\n",
      "[t-SNE] Computed conditional probabilities for sample 158000 / 223438\n",
      "[t-SNE] Computed conditional probabilities for sample 159000 / 223438\n",
      "[t-SNE] Computed conditional probabilities for sample 160000 / 223438\n",
      "[t-SNE] Computed conditional probabilities for sample 161000 / 223438\n",
      "[t-SNE] Computed conditional probabilities for sample 162000 / 223438\n",
      "[t-SNE] Computed conditional probabilities for sample 163000 / 223438\n",
      "[t-SNE] Computed conditional probabilities for sample 164000 / 223438\n",
      "[t-SNE] Computed conditional probabilities for sample 165000 / 223438\n",
      "[t-SNE] Computed conditional probabilities for sample 166000 / 223438\n",
      "[t-SNE] Computed conditional probabilities for sample 167000 / 223438\n",
      "[t-SNE] Computed conditional probabilities for sample 168000 / 223438\n",
      "[t-SNE] Computed conditional probabilities for sample 169000 / 223438\n",
      "[t-SNE] Computed conditional probabilities for sample 170000 / 223438\n",
      "[t-SNE] Computed conditional probabilities for sample 171000 / 223438\n",
      "[t-SNE] Computed conditional probabilities for sample 172000 / 223438\n",
      "[t-SNE] Computed conditional probabilities for sample 173000 / 223438\n",
      "[t-SNE] Computed conditional probabilities for sample 174000 / 223438\n",
      "[t-SNE] Computed conditional probabilities for sample 175000 / 223438\n",
      "[t-SNE] Computed conditional probabilities for sample 176000 / 223438\n",
      "[t-SNE] Computed conditional probabilities for sample 177000 / 223438\n",
      "[t-SNE] Computed conditional probabilities for sample 178000 / 223438\n",
      "[t-SNE] Computed conditional probabilities for sample 179000 / 223438\n",
      "[t-SNE] Computed conditional probabilities for sample 180000 / 223438\n",
      "[t-SNE] Computed conditional probabilities for sample 181000 / 223438\n",
      "[t-SNE] Computed conditional probabilities for sample 182000 / 223438\n",
      "[t-SNE] Computed conditional probabilities for sample 183000 / 223438\n",
      "[t-SNE] Computed conditional probabilities for sample 184000 / 223438\n",
      "[t-SNE] Computed conditional probabilities for sample 185000 / 223438\n",
      "[t-SNE] Computed conditional probabilities for sample 186000 / 223438\n",
      "[t-SNE] Computed conditional probabilities for sample 187000 / 223438\n",
      "[t-SNE] Computed conditional probabilities for sample 188000 / 223438\n",
      "[t-SNE] Computed conditional probabilities for sample 189000 / 223438\n",
      "[t-SNE] Computed conditional probabilities for sample 190000 / 223438\n",
      "[t-SNE] Computed conditional probabilities for sample 191000 / 223438\n",
      "[t-SNE] Computed conditional probabilities for sample 192000 / 223438\n",
      "[t-SNE] Computed conditional probabilities for sample 193000 / 223438\n",
      "[t-SNE] Computed conditional probabilities for sample 194000 / 223438\n",
      "[t-SNE] Computed conditional probabilities for sample 195000 / 223438\n",
      "[t-SNE] Computed conditional probabilities for sample 196000 / 223438\n",
      "[t-SNE] Computed conditional probabilities for sample 197000 / 223438\n",
      "[t-SNE] Computed conditional probabilities for sample 198000 / 223438\n",
      "[t-SNE] Computed conditional probabilities for sample 199000 / 223438\n",
      "[t-SNE] Computed conditional probabilities for sample 200000 / 223438\n",
      "[t-SNE] Computed conditional probabilities for sample 201000 / 223438\n",
      "[t-SNE] Computed conditional probabilities for sample 202000 / 223438\n",
      "[t-SNE] Computed conditional probabilities for sample 203000 / 223438\n",
      "[t-SNE] Computed conditional probabilities for sample 204000 / 223438\n",
      "[t-SNE] Computed conditional probabilities for sample 205000 / 223438\n",
      "[t-SNE] Computed conditional probabilities for sample 206000 / 223438\n",
      "[t-SNE] Computed conditional probabilities for sample 207000 / 223438\n",
      "[t-SNE] Computed conditional probabilities for sample 208000 / 223438\n",
      "[t-SNE] Computed conditional probabilities for sample 209000 / 223438\n",
      "[t-SNE] Computed conditional probabilities for sample 210000 / 223438\n",
      "[t-SNE] Computed conditional probabilities for sample 211000 / 223438\n",
      "[t-SNE] Computed conditional probabilities for sample 212000 / 223438\n",
      "[t-SNE] Computed conditional probabilities for sample 213000 / 223438\n",
      "[t-SNE] Computed conditional probabilities for sample 214000 / 223438\n",
      "[t-SNE] Computed conditional probabilities for sample 215000 / 223438\n",
      "[t-SNE] Computed conditional probabilities for sample 216000 / 223438\n",
      "[t-SNE] Computed conditional probabilities for sample 217000 / 223438\n",
      "[t-SNE] Computed conditional probabilities for sample 218000 / 223438\n",
      "[t-SNE] Computed conditional probabilities for sample 219000 / 223438\n",
      "[t-SNE] Computed conditional probabilities for sample 220000 / 223438\n",
      "[t-SNE] Computed conditional probabilities for sample 221000 / 223438\n",
      "[t-SNE] Computed conditional probabilities for sample 222000 / 223438\n",
      "[t-SNE] Computed conditional probabilities for sample 223000 / 223438\n",
      "[t-SNE] Computed conditional probabilities for sample 223438 / 223438\n",
      "[t-SNE] Mean sigma: 0.000000\n",
      "[t-SNE] Computed conditional probabilities in 3.304s\n",
      "[t-SNE] Iteration 50: error = 171.9798584, gradient norm = 0.0666621 (50 iterations in 754.642s)\n",
      "[t-SNE] Iteration 100: error = 175.3575134, gradient norm = 0.0382704 (50 iterations in 873.130s)\n",
      "[t-SNE] Iteration 150: error = 175.5426483, gradient norm = 0.0829636 (50 iterations in 762.008s)\n",
      "[t-SNE] Iteration 200: error = 165.0686646, gradient norm = 0.0717393 (50 iterations in 1085.630s)\n",
      "[t-SNE] Iteration 250: error = 154.7851257, gradient norm = 0.1967046 (50 iterations in 6369.368s)\n",
      "[t-SNE] KL divergence after 250 iterations with early exaggeration: 154.785126\n",
      "[t-SNE] Iteration 300: error = 10.0212402, gradient norm = 0.0258687 (50 iterations in 726.514s)\n",
      "[t-SNE] Iteration 350: error = 9.3569870, gradient norm = 0.0139003 (50 iterations in 2749.142s)\n",
      "[t-SNE] Iteration 400: error = 8.2602806, gradient norm = 0.0131135 (50 iterations in 1047.188s)\n",
      "[t-SNE] Iteration 450: error = 7.9308119, gradient norm = 0.0007445 (50 iterations in 667.336s)\n",
      "[t-SNE] Iteration 500: error = 7.6684346, gradient norm = 0.0005136 (50 iterations in 540.386s)\n"
     ]
    },
    {
     "name": "stdout",
     "output_type": "stream",
     "text": [
      "[t-SNE] Iteration 550: error = 7.4169993, gradient norm = 0.0008111 (50 iterations in 764.962s)\n",
      "[t-SNE] Iteration 600: error = 7.2128444, gradient norm = 0.0012353 (50 iterations in 1174.174s)\n",
      "[t-SNE] Iteration 650: error = 6.7893219, gradient norm = 0.0017065 (50 iterations in 1195.823s)\n",
      "[t-SNE] Iteration 700: error = 6.5879407, gradient norm = 0.0004271 (50 iterations in 324.748s)\n",
      "[t-SNE] Iteration 750: error = 6.4833350, gradient norm = 0.0001517 (50 iterations in 427.622s)\n",
      "[t-SNE] Iteration 800: error = 6.3849063, gradient norm = 0.0001361 (50 iterations in 440.712s)\n",
      "[t-SNE] Iteration 850: error = 6.2951999, gradient norm = 0.0001241 (50 iterations in 405.204s)\n",
      "[t-SNE] Iteration 900: error = 6.2107306, gradient norm = 0.0001144 (50 iterations in 400.948s)\n",
      "[t-SNE] Iteration 950: error = 6.1109047, gradient norm = 0.0001061 (50 iterations in 428.321s)\n",
      "[t-SNE] Iteration 1000: error = 6.0359735, gradient norm = 0.0000990 (50 iterations in 395.560s)\n",
      "[t-SNE] Error after 1000 iterations: 6.035974\n"
     ]
    }
   ],
   "source": [
    "# LSA & TFIDF Positive Comments\n",
    "tsne = TSNE(n_components=2, random_state=28,verbose=2, perplexity=4.0)\n",
    "tsne_pos = tsne.fit_transform(X_pos)"
   ]
  },
  {
   "cell_type": "code",
   "execution_count": 467,
   "metadata": {
    "ExecuteTime": {
     "end_time": "2018-08-24T16:12:03.654953Z",
     "start_time": "2018-08-24T16:11:47.778533Z"
    },
    "scrolled": false
   },
   "outputs": [
    {
     "data": {
      "image/png": "[encoded data removed]",
      "text/plain": [
       "<Figure size 900x600 with 1 Axes>"
      ]
     },
     "metadata": {},
     "output_type": "display_data"
    }
   ],
   "source": [
    "# There are no definitive clusters, and this is the same for neutral and negative comments.\n",
    "\n",
    "for topic in range(0,1):\n",
    "\n",
    "    plt.figure(dpi=150)\n",
    "    plt.scatter(tsne_pos[:,0],tsne_pos[:,1], c=X_pos[:,topic], cmap=plt.cm.rainbow, alpha=0.1)\n",
    "    #plt.scatter(tsne_pos[:,0],tsne_pos[:,1], c=km.labels_, cmap=plt.cm.rainbow, alpha=0.1)\n",
    "    plt.title(f'KMeans Clusters for Positive Comments: Topic {topic}')\n",
    "\n",
    "    plt.show()"
   ]
  },
  {
   "cell_type": "code",
   "execution_count": 436,
   "metadata": {
    "ExecuteTime": {
     "end_time": "2018-08-24T05:37:18.672538Z",
     "start_time": "2018-08-24T05:37:18.560408Z"
    }
   },
   "outputs": [
    {
     "data": {
      "text/plain": [
       "[(0, 215706),\n",
       " (1, 160),\n",
       " (2, 177),\n",
       " (3, 243),\n",
       " (4, 162),\n",
       " (5, 142),\n",
       " (6, 141),\n",
       " (7, 231),\n",
       " (8, 256),\n",
       " (9, 145),\n",
       " (10, 207),\n",
       " (11, 191),\n",
       " (12, 120),\n",
       " (13, 148),\n",
       " (14, 225),\n",
       " (15, 154),\n",
       " (16, 170),\n",
       " (17, 217),\n",
       " (18, 130),\n",
       " (19, 458),\n",
       " (20, 431),\n",
       " (21, 429),\n",
       " (22, 299),\n",
       " (23, 318),\n",
       " (24, 253),\n",
       " (25, 427),\n",
       " (26, 189),\n",
       " (27, 376),\n",
       " (28, 273),\n",
       " (29, 1060)]"
      ]
     },
     "execution_count": 436,
     "metadata": {},
     "output_type": "execute_result"
    }
   ],
   "source": [
    "# Number of times a topic space was plotted in the K-Means TSNE space\n",
    "\n",
    "pos_topics_dict = defaultdict(int)\n",
    "for i,v in enumerate(km.labels_):\n",
    "    pos_topics_dict[v] += 1\n",
    "    \n",
    "sorted(pos_topics_dict.items())"
   ]
  }
 ],
 "metadata": {
  "kernelspec": {
   "display_name": "Python 3",
   "language": "python",
   "name": "python3"
  },
  "language_info": {
   "codemirror_mode": {
    "name": "ipython",
    "version": 3
   },
   "file_extension": ".py",
   "mimetype": "text/x-python",
   "name": "python",
   "nbconvert_exporter": "python",
   "pygments_lexer": "ipython3",
   "version": "3.6.5"
  },
  "varInspector": {
   "cols": {
    "lenName": 16,
    "lenType": 16,
    "lenVar": 40
   },
   "kernels_config": {
    "python": {
     "delete_cmd_postfix": "",
     "delete_cmd_prefix": "del ",
     "library": "var_list.py",
     "varRefreshCmd": "print(var_dic_list())"
    },
    "r": {
     "delete_cmd_postfix": ") ",
     "delete_cmd_prefix": "rm(",
     "library": "var_list.r",
     "varRefreshCmd": "cat(var_dic_list()) "
    }
   },
   "types_to_exclude": [
    "module",
    "function",
    "builtin_function_or_method",
    "instance",
    "_Feature"
   ],
   "window_display": false
  }
 },
 "nbformat": 4,
 "nbformat_minor": 2
}
