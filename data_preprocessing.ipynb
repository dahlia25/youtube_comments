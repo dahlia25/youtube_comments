{
 "cells": [
  {
   "cell_type": "code",
   "execution_count": 1,
   "metadata": {
    "ExecuteTime": {
     "end_time": "2018-08-24T21:16:15.646299Z",
     "start_time": "2018-08-24T21:16:08.080760Z"
    }
   },
   "outputs": [],
   "source": [
    "import numpy as np\n",
    "import pandas as pd\n",
    "import matplotlib.pyplot as plt\n",
    "import pickle as pkl\n",
    "import json\n",
    "import nltk\n",
    "import emoji\n",
    "import enchant\n",
    "\n",
    "from sklearn.utils import shuffle\n",
    "\n",
    "from textblob import TextBlob\n",
    "\n",
    "from nltk.util import ngrams\n",
    "from nltk.corpus import stopwords\n",
    "\n",
    "from vaderSentiment.vaderSentiment import SentimentIntensityAnalyzer\n",
    "\n",
    "from collections import Counter"
   ]
  },
  {
   "cell_type": "code",
   "execution_count": 2,
   "metadata": {
    "ExecuteTime": {
     "end_time": "2018-08-24T21:17:44.476652Z",
     "start_time": "2018-08-24T21:17:40.689408Z"
    }
   },
   "outputs": [
    {
     "name": "stderr",
     "output_type": "stream",
     "text": [
      "b'Skipping line 41589: expected 4 fields, saw 11\\nSkipping line 51628: expected 4 fields, saw 7\\nSkipping line 114465: expected 4 fields, saw 5\\n'\n",
      "b'Skipping line 142496: expected 4 fields, saw 8\\nSkipping line 189732: expected 4 fields, saw 6\\nSkipping line 245218: expected 4 fields, saw 7\\n'\n",
      "b'Skipping line 388430: expected 4 fields, saw 5\\n'\n",
      "/anaconda3/lib/python3.6/site-packages/IPython/core/interactiveshell.py:2785: DtypeWarning: Columns (2,3) have mixed types. Specify dtype option on import or set low_memory=False.\n",
      "  interactivity=interactivity, compiler=compiler, result=result)\n",
      "b'Skipping line 113225: expected 4 fields, saw 5\\n'\n",
      "b'Skipping line 158379: expected 4 fields, saw 7\\nSkipping line 241590: expected 4 fields, saw 5\\nSkipping line 245637: expected 4 fields, saw 7\\n'\n",
      "b'Skipping line 521402: expected 4 fields, saw 5\\n'\n",
      "b'Skipping line 2401: expected 11 fields, saw 21\\nSkipping line 2800: expected 11 fields, saw 21\\nSkipping line 5297: expected 11 fields, saw 12\\nSkipping line 5299: expected 11 fields, saw 12\\nSkipping line 5300: expected 11 fields, saw 12\\nSkipping line 5301: expected 11 fields, saw 12\\n'\n",
      "b'Skipping line 2398: expected 11 fields, saw 21\\nSkipping line 2797: expected 11 fields, saw 21\\n'\n"
     ]
    }
   ],
   "source": [
    "UScomments = pd.read_csv('UScomments.csv', delimiter=',', error_bad_lines=False)\n",
    "GBcomments = pd.read_csv('GBcomments.csv', delimiter=',', error_bad_lines=False)\n",
    "\n",
    "USvideos = pd.read_csv('USvideos.csv', delimiter=',', error_bad_lines=False)\n",
    "GBvideos = pd.read_csv('GBvideos.csv', delimiter=',', error_bad_lines=False)\n",
    "\n",
    "with open('US_category_id.json') as file:\n",
    "    US_cats = json.load(file)\n",
    "    \n",
    "with open('GB_category_id.json') as file:\n",
    "    GB_cats = json.load(file)"
   ]
  },
  {
   "cell_type": "code",
   "execution_count": 3,
   "metadata": {
    "ExecuteTime": {
     "end_time": "2018-08-24T21:17:49.435412Z",
     "start_time": "2018-08-24T21:17:49.414842Z"
    }
   },
   "outputs": [
    {
     "data": {
      "text/plain": [
       "{'kind': 'youtube#videoCategoryListResponse',\n",
       " 'etag': '\"m2yskBQFythfE4irbTIeOgYYfBU/S730Ilt-Fi-emsQJvJAAShlR6hM\"',\n",
       " 'items': [{'kind': 'youtube#videoCategory',\n",
       "   'etag': '\"m2yskBQFythfE4irbTIeOgYYfBU/Xy1mB4_yLrHy_BmKmPBggty2mZQ\"',\n",
       "   'id': '1',\n",
       "   'snippet': {'channelId': 'UCBR8-60-B28hp2BmDPdntcQ',\n",
       "    'title': 'Film & Animation',\n",
       "    'assignable': True}},\n",
       "  {'kind': 'youtube#videoCategory',\n",
       "   'etag': '\"m2yskBQFythfE4irbTIeOgYYfBU/UZ1oLIIz2dxIhO45ZTFR3a3NyTA\"',\n",
       "   'id': '2',\n",
       "   'snippet': {'channelId': 'UCBR8-60-B28hp2BmDPdntcQ',\n",
       "    'title': 'Autos & Vehicles',\n",
       "    'assignable': True}},\n",
       "  {'kind': 'youtube#videoCategory',\n",
       "   'etag': '\"m2yskBQFythfE4irbTIeOgYYfBU/nqRIq97-xe5XRZTxbknKFVe5Lmg\"',\n",
       "   'id': '10',\n",
       "   'snippet': {'channelId': 'UCBR8-60-B28hp2BmDPdntcQ',\n",
       "    'title': 'Music',\n",
       "    'assignable': True}},\n",
       "  {'kind': 'youtube#videoCategory',\n",
       "   'etag': '\"m2yskBQFythfE4irbTIeOgYYfBU/HwXKamM1Q20q9BN-oBJavSGkfDI\"',\n",
       "   'id': '15',\n",
       "   'snippet': {'channelId': 'UCBR8-60-B28hp2BmDPdntcQ',\n",
       "    'title': 'Pets & Animals',\n",
       "    'assignable': True}},\n",
       "  {'kind': 'youtube#videoCategory',\n",
       "   'etag': '\"m2yskBQFythfE4irbTIeOgYYfBU/9GQMSRjrZdHeb1OEM1XVQ9zbGec\"',\n",
       "   'id': '17',\n",
       "   'snippet': {'channelId': 'UCBR8-60-B28hp2BmDPdntcQ',\n",
       "    'title': 'Sports',\n",
       "    'assignable': True}},\n",
       "  {'kind': 'youtube#videoCategory',\n",
       "   'etag': '\"m2yskBQFythfE4irbTIeOgYYfBU/FJwVpGCVZ1yiJrqZbpqe68Sy_OE\"',\n",
       "   'id': '18',\n",
       "   'snippet': {'channelId': 'UCBR8-60-B28hp2BmDPdntcQ',\n",
       "    'title': 'Short Movies',\n",
       "    'assignable': False}},\n",
       "  {'kind': 'youtube#videoCategory',\n",
       "   'etag': '\"m2yskBQFythfE4irbTIeOgYYfBU/M-3iD9dwK7YJCafRf_DkLN8CouA\"',\n",
       "   'id': '19',\n",
       "   'snippet': {'channelId': 'UCBR8-60-B28hp2BmDPdntcQ',\n",
       "    'title': 'Travel & Events',\n",
       "    'assignable': True}},\n",
       "  {'kind': 'youtube#videoCategory',\n",
       "   'etag': '\"m2yskBQFythfE4irbTIeOgYYfBU/WmA0qYEfjWsAoyJFSw2zinhn2wM\"',\n",
       "   'id': '20',\n",
       "   'snippet': {'channelId': 'UCBR8-60-B28hp2BmDPdntcQ',\n",
       "    'title': 'Gaming',\n",
       "    'assignable': True}},\n",
       "  {'kind': 'youtube#videoCategory',\n",
       "   'etag': '\"m2yskBQFythfE4irbTIeOgYYfBU/EapFaGYG7K0StIXVf8aba249tdM\"',\n",
       "   'id': '21',\n",
       "   'snippet': {'channelId': 'UCBR8-60-B28hp2BmDPdntcQ',\n",
       "    'title': 'Videoblogging',\n",
       "    'assignable': False}},\n",
       "  {'kind': 'youtube#videoCategory',\n",
       "   'etag': '\"m2yskBQFythfE4irbTIeOgYYfBU/xId8RX7vRN8rqkbYZbNIytUQDRo\"',\n",
       "   'id': '22',\n",
       "   'snippet': {'channelId': 'UCBR8-60-B28hp2BmDPdntcQ',\n",
       "    'title': 'People & Blogs',\n",
       "    'assignable': True}},\n",
       "  {'kind': 'youtube#videoCategory',\n",
       "   'etag': '\"m2yskBQFythfE4irbTIeOgYYfBU/G9LHzQmx44rX2S5yaga_Aqtwz8M\"',\n",
       "   'id': '23',\n",
       "   'snippet': {'channelId': 'UCBR8-60-B28hp2BmDPdntcQ',\n",
       "    'title': 'Comedy',\n",
       "    'assignable': True}},\n",
       "  {'kind': 'youtube#videoCategory',\n",
       "   'etag': '\"m2yskBQFythfE4irbTIeOgYYfBU/UVB9oxX2Bvqa_w_y3vXSLVK5E_s\"',\n",
       "   'id': '24',\n",
       "   'snippet': {'channelId': 'UCBR8-60-B28hp2BmDPdntcQ',\n",
       "    'title': 'Entertainment',\n",
       "    'assignable': True}},\n",
       "  {'kind': 'youtube#videoCategory',\n",
       "   'etag': '\"m2yskBQFythfE4irbTIeOgYYfBU/QiLK0ZIrFoORdk_g2l_XR_ECjDc\"',\n",
       "   'id': '25',\n",
       "   'snippet': {'channelId': 'UCBR8-60-B28hp2BmDPdntcQ',\n",
       "    'title': 'News & Politics',\n",
       "    'assignable': True}},\n",
       "  {'kind': 'youtube#videoCategory',\n",
       "   'etag': '\"m2yskBQFythfE4irbTIeOgYYfBU/r6Ck6Z0_L0rG37VJQR200SGNA_w\"',\n",
       "   'id': '26',\n",
       "   'snippet': {'channelId': 'UCBR8-60-B28hp2BmDPdntcQ',\n",
       "    'title': 'Howto & Style',\n",
       "    'assignable': True}},\n",
       "  {'kind': 'youtube#videoCategory',\n",
       "   'etag': '\"m2yskBQFythfE4irbTIeOgYYfBU/EoYkczo9I3RCf96RveKTOgOPkUM\"',\n",
       "   'id': '27',\n",
       "   'snippet': {'channelId': 'UCBR8-60-B28hp2BmDPdntcQ',\n",
       "    'title': 'Education',\n",
       "    'assignable': True}},\n",
       "  {'kind': 'youtube#videoCategory',\n",
       "   'etag': '\"m2yskBQFythfE4irbTIeOgYYfBU/w5HjcTD82G_XA3xBctS30zS-JpQ\"',\n",
       "   'id': '28',\n",
       "   'snippet': {'channelId': 'UCBR8-60-B28hp2BmDPdntcQ',\n",
       "    'title': 'Science & Technology',\n",
       "    'assignable': True}},\n",
       "  {'kind': 'youtube#videoCategory',\n",
       "   'etag': '\"m2yskBQFythfE4irbTIeOgYYfBU/SalkJoBWq_smSEqiAx_qyri6Wa8\"',\n",
       "   'id': '29',\n",
       "   'snippet': {'channelId': 'UCBR8-60-B28hp2BmDPdntcQ',\n",
       "    'title': 'Nonprofits & Activism',\n",
       "    'assignable': True}},\n",
       "  {'kind': 'youtube#videoCategory',\n",
       "   'etag': '\"m2yskBQFythfE4irbTIeOgYYfBU/lL7uWDr_071CHxifjYG1tJrp4Uo\"',\n",
       "   'id': '30',\n",
       "   'snippet': {'channelId': 'UCBR8-60-B28hp2BmDPdntcQ',\n",
       "    'title': 'Movies',\n",
       "    'assignable': False}},\n",
       "  {'kind': 'youtube#videoCategory',\n",
       "   'etag': '\"m2yskBQFythfE4irbTIeOgYYfBU/WnuVfjO-PyFLO7NTRQIbrGE62nk\"',\n",
       "   'id': '31',\n",
       "   'snippet': {'channelId': 'UCBR8-60-B28hp2BmDPdntcQ',\n",
       "    'title': 'Anime/Animation',\n",
       "    'assignable': False}},\n",
       "  {'kind': 'youtube#videoCategory',\n",
       "   'etag': '\"m2yskBQFythfE4irbTIeOgYYfBU/ctpH2hGA_UZ3volJT_FTlOg9M00\"',\n",
       "   'id': '32',\n",
       "   'snippet': {'channelId': 'UCBR8-60-B28hp2BmDPdntcQ',\n",
       "    'title': 'Action/Adventure',\n",
       "    'assignable': False}},\n",
       "  {'kind': 'youtube#videoCategory',\n",
       "   'etag': '\"m2yskBQFythfE4irbTIeOgYYfBU/L0kR3-g1BAo5UD1PLVbQ7LkkDtQ\"',\n",
       "   'id': '33',\n",
       "   'snippet': {'channelId': 'UCBR8-60-B28hp2BmDPdntcQ',\n",
       "    'title': 'Classics',\n",
       "    'assignable': False}},\n",
       "  {'kind': 'youtube#videoCategory',\n",
       "   'etag': '\"m2yskBQFythfE4irbTIeOgYYfBU/pUZOAC_s9sfiwar639qr_wAB-aI\"',\n",
       "   'id': '34',\n",
       "   'snippet': {'channelId': 'UCBR8-60-B28hp2BmDPdntcQ',\n",
       "    'title': 'Comedy',\n",
       "    'assignable': False}},\n",
       "  {'kind': 'youtube#videoCategory',\n",
       "   'etag': '\"m2yskBQFythfE4irbTIeOgYYfBU/Xb5JLhtyNRN3AQq021Ds-OV50Jk\"',\n",
       "   'id': '35',\n",
       "   'snippet': {'channelId': 'UCBR8-60-B28hp2BmDPdntcQ',\n",
       "    'title': 'Documentary',\n",
       "    'assignable': False}},\n",
       "  {'kind': 'youtube#videoCategory',\n",
       "   'etag': '\"m2yskBQFythfE4irbTIeOgYYfBU/u8WXzF4HIhtEi805__sqjuA4lEk\"',\n",
       "   'id': '36',\n",
       "   'snippet': {'channelId': 'UCBR8-60-B28hp2BmDPdntcQ',\n",
       "    'title': 'Drama',\n",
       "    'assignable': False}},\n",
       "  {'kind': 'youtube#videoCategory',\n",
       "   'etag': '\"m2yskBQFythfE4irbTIeOgYYfBU/D04PP4Gr7wc4IV_O9G66Z4A8KWQ\"',\n",
       "   'id': '37',\n",
       "   'snippet': {'channelId': 'UCBR8-60-B28hp2BmDPdntcQ',\n",
       "    'title': 'Family',\n",
       "    'assignable': False}},\n",
       "  {'kind': 'youtube#videoCategory',\n",
       "   'etag': '\"m2yskBQFythfE4irbTIeOgYYfBU/i5-_AceGXQCEEMWU0V8CcQm_vLQ\"',\n",
       "   'id': '38',\n",
       "   'snippet': {'channelId': 'UCBR8-60-B28hp2BmDPdntcQ',\n",
       "    'title': 'Foreign',\n",
       "    'assignable': False}},\n",
       "  {'kind': 'youtube#videoCategory',\n",
       "   'etag': '\"m2yskBQFythfE4irbTIeOgYYfBU/rtlxd0zOixA9QHdIZB26-St5qgQ\"',\n",
       "   'id': '39',\n",
       "   'snippet': {'channelId': 'UCBR8-60-B28hp2BmDPdntcQ',\n",
       "    'title': 'Horror',\n",
       "    'assignable': False}},\n",
       "  {'kind': 'youtube#videoCategory',\n",
       "   'etag': '\"m2yskBQFythfE4irbTIeOgYYfBU/N1TrDFLRppxZgBowCJfJCvh0Dpg\"',\n",
       "   'id': '40',\n",
       "   'snippet': {'channelId': 'UCBR8-60-B28hp2BmDPdntcQ',\n",
       "    'title': 'Sci-Fi/Fantasy',\n",
       "    'assignable': False}},\n",
       "  {'kind': 'youtube#videoCategory',\n",
       "   'etag': '\"m2yskBQFythfE4irbTIeOgYYfBU/7UMGi6zRySqXopr_rv4sZq6Za2E\"',\n",
       "   'id': '41',\n",
       "   'snippet': {'channelId': 'UCBR8-60-B28hp2BmDPdntcQ',\n",
       "    'title': 'Thriller',\n",
       "    'assignable': False}},\n",
       "  {'kind': 'youtube#videoCategory',\n",
       "   'etag': '\"m2yskBQFythfE4irbTIeOgYYfBU/RScXhi324h8usyIetreAVb-uKeM\"',\n",
       "   'id': '42',\n",
       "   'snippet': {'channelId': 'UCBR8-60-B28hp2BmDPdntcQ',\n",
       "    'title': 'Shorts',\n",
       "    'assignable': False}},\n",
       "  {'kind': 'youtube#videoCategory',\n",
       "   'etag': '\"m2yskBQFythfE4irbTIeOgYYfBU/0n9MJVCDLpA8q7aiGVrFsuFsd0A\"',\n",
       "   'id': '43',\n",
       "   'snippet': {'channelId': 'UCBR8-60-B28hp2BmDPdntcQ',\n",
       "    'title': 'Shows',\n",
       "    'assignable': False}},\n",
       "  {'kind': 'youtube#videoCategory',\n",
       "   'etag': '\"m2yskBQFythfE4irbTIeOgYYfBU/x5NxSf5fz8hn4loSN4rvhwzD_pY\"',\n",
       "   'id': '44',\n",
       "   'snippet': {'channelId': 'UCBR8-60-B28hp2BmDPdntcQ',\n",
       "    'title': 'Trailers',\n",
       "    'assignable': False}}]}"
      ]
     },
     "execution_count": 3,
     "metadata": {},
     "output_type": "execute_result"
    }
   ],
   "source": [
    "US_cats"
   ]
  },
  {
   "cell_type": "code",
   "execution_count": 5,
   "metadata": {
    "ExecuteTime": {
     "end_time": "2018-08-24T21:17:57.450633Z",
     "start_time": "2018-08-24T21:17:57.439037Z"
    }
   },
   "outputs": [
    {
     "data": {
      "text/html": [
       "<div>\n",
       "<style scoped>\n",
       "    .dataframe tbody tr th:only-of-type {\n",
       "        vertical-align: middle;\n",
       "    }\n",
       "\n",
       "    .dataframe tbody tr th {\n",
       "        vertical-align: top;\n",
       "    }\n",
       "\n",
       "    .dataframe thead th {\n",
       "        text-align: right;\n",
       "    }\n",
       "</style>\n",
       "<table border=\"1\" class=\"dataframe\">\n",
       "  <thead>\n",
       "    <tr style=\"text-align: right;\">\n",
       "      <th></th>\n",
       "      <th>video_id</th>\n",
       "      <th>comment_text</th>\n",
       "      <th>likes</th>\n",
       "      <th>replies</th>\n",
       "    </tr>\n",
       "  </thead>\n",
       "  <tbody>\n",
       "    <tr>\n",
       "      <th>0</th>\n",
       "      <td>XpVt6Z1Gjjo</td>\n",
       "      <td>Logan Paul it's yo big day ‼️‼️‼️</td>\n",
       "      <td>4</td>\n",
       "      <td>0</td>\n",
       "    </tr>\n",
       "    <tr>\n",
       "      <th>1</th>\n",
       "      <td>XpVt6Z1Gjjo</td>\n",
       "      <td>I've been following you from the start of your...</td>\n",
       "      <td>3</td>\n",
       "      <td>0</td>\n",
       "    </tr>\n",
       "    <tr>\n",
       "      <th>2</th>\n",
       "      <td>XpVt6Z1Gjjo</td>\n",
       "      <td>Say hi to Kong and maverick for me</td>\n",
       "      <td>3</td>\n",
       "      <td>0</td>\n",
       "    </tr>\n",
       "    <tr>\n",
       "      <th>3</th>\n",
       "      <td>XpVt6Z1Gjjo</td>\n",
       "      <td>MY FAN . attendance</td>\n",
       "      <td>3</td>\n",
       "      <td>0</td>\n",
       "    </tr>\n",
       "    <tr>\n",
       "      <th>4</th>\n",
       "      <td>XpVt6Z1Gjjo</td>\n",
       "      <td>trending 😉</td>\n",
       "      <td>3</td>\n",
       "      <td>0</td>\n",
       "    </tr>\n",
       "  </tbody>\n",
       "</table>\n",
       "</div>"
      ],
      "text/plain": [
       "      video_id                                       comment_text likes  \\\n",
       "0  XpVt6Z1Gjjo                  Logan Paul it's yo big day ‼️‼️‼️     4   \n",
       "1  XpVt6Z1Gjjo  I've been following you from the start of your...     3   \n",
       "2  XpVt6Z1Gjjo                 Say hi to Kong and maverick for me     3   \n",
       "3  XpVt6Z1Gjjo                                MY FAN . attendance     3   \n",
       "4  XpVt6Z1Gjjo                                         trending 😉     3   \n",
       "\n",
       "  replies  \n",
       "0       0  \n",
       "1       0  \n",
       "2       0  \n",
       "3       0  \n",
       "4       0  "
      ]
     },
     "execution_count": 5,
     "metadata": {},
     "output_type": "execute_result"
    }
   ],
   "source": [
    "UScomments.head()"
   ]
  },
  {
   "cell_type": "code",
   "execution_count": 6,
   "metadata": {
    "ExecuteTime": {
     "end_time": "2018-08-24T21:18:00.532863Z",
     "start_time": "2018-08-24T21:18:00.526064Z"
    }
   },
   "outputs": [
    {
     "data": {
      "text/plain": [
       "((691400, 4), (718452, 4))"
      ]
     },
     "execution_count": 6,
     "metadata": {},
     "output_type": "execute_result"
    }
   ],
   "source": [
    "UScomments.shape, GBcomments.shape"
   ]
  },
  {
   "cell_type": "markdown",
   "metadata": {},
   "source": [
    "## Merge and Concatenate all files appropriately"
   ]
  },
  {
   "cell_type": "code",
   "execution_count": 7,
   "metadata": {
    "ExecuteTime": {
     "end_time": "2018-08-24T21:26:48.132758Z",
     "start_time": "2018-08-24T21:26:43.728191Z"
    }
   },
   "outputs": [
    {
     "data": {
      "text/plain": [
       "(450534, 14)"
      ]
     },
     "execution_count": 7,
     "metadata": {},
     "output_type": "execute_result"
    }
   ],
   "source": [
    "US_df = pd.merge(UScomments, USvideos, on='video_id')\n",
    "US_df.drop_duplicates(subset=['video_id', 'comment_text'], inplace=True)\n",
    "US_df.shape"
   ]
  },
  {
   "cell_type": "code",
   "execution_count": 8,
   "metadata": {
    "ExecuteTime": {
     "end_time": "2018-08-24T21:26:53.767371Z",
     "start_time": "2018-08-24T21:26:48.344890Z"
    }
   },
   "outputs": [
    {
     "data": {
      "text/plain": [
       "(384293, 14)"
      ]
     },
     "execution_count": 8,
     "metadata": {},
     "output_type": "execute_result"
    }
   ],
   "source": [
    "GB_df = pd.merge(GBcomments, GBvideos, on='video_id')\n",
    "GB_df.drop_duplicates(subset=['video_id', 'comment_text'], inplace=True)\n",
    "GB_df.shape"
   ]
  },
  {
   "cell_type": "code",
   "execution_count": 9,
   "metadata": {
    "ExecuteTime": {
     "end_time": "2018-08-24T21:26:55.478740Z",
     "start_time": "2018-08-24T21:26:54.026374Z"
    }
   },
   "outputs": [
    {
     "data": {
      "text/plain": [
       "(646863, 14)"
      ]
     },
     "execution_count": 9,
     "metadata": {},
     "output_type": "execute_result"
    }
   ],
   "source": [
    "frames = [US_df, GB_df]\n",
    "df = pd.concat(frames)\n",
    "df.drop_duplicates(subset=['video_id', 'comment_text'], inplace=True)\n",
    "df.shape"
   ]
  },
  {
   "cell_type": "code",
   "execution_count": 10,
   "metadata": {
    "ExecuteTime": {
     "end_time": "2018-08-24T21:26:55.905356Z",
     "start_time": "2018-08-24T21:26:55.873538Z"
    }
   },
   "outputs": [
    {
     "data": {
      "text/html": [
       "<div>\n",
       "<style scoped>\n",
       "    .dataframe tbody tr th:only-of-type {\n",
       "        vertical-align: middle;\n",
       "    }\n",
       "\n",
       "    .dataframe tbody tr th {\n",
       "        vertical-align: top;\n",
       "    }\n",
       "\n",
       "    .dataframe thead th {\n",
       "        text-align: right;\n",
       "    }\n",
       "</style>\n",
       "<table border=\"1\" class=\"dataframe\">\n",
       "  <thead>\n",
       "    <tr style=\"text-align: right;\">\n",
       "      <th></th>\n",
       "      <th>video_id</th>\n",
       "      <th>comment_text</th>\n",
       "      <th>likes_x</th>\n",
       "      <th>replies</th>\n",
       "      <th>title</th>\n",
       "      <th>channel_title</th>\n",
       "      <th>category_id</th>\n",
       "      <th>tags</th>\n",
       "      <th>views</th>\n",
       "      <th>likes_y</th>\n",
       "      <th>dislikes</th>\n",
       "      <th>comment_total</th>\n",
       "      <th>thumbnail_link</th>\n",
       "      <th>date</th>\n",
       "    </tr>\n",
       "  </thead>\n",
       "  <tbody>\n",
       "    <tr>\n",
       "      <th>0</th>\n",
       "      <td>XpVt6Z1Gjjo</td>\n",
       "      <td>Logan Paul it's yo big day ‼️‼️‼️</td>\n",
       "      <td>4</td>\n",
       "      <td>0</td>\n",
       "      <td>1 YEAR OF VLOGGING -- HOW LOGAN PAUL CHANGED Y...</td>\n",
       "      <td>Logan Paul Vlogs</td>\n",
       "      <td>24</td>\n",
       "      <td>logan paul vlog|logan paul|logan|paul|olympics...</td>\n",
       "      <td>4394029</td>\n",
       "      <td>320053</td>\n",
       "      <td>5931</td>\n",
       "      <td>46245</td>\n",
       "      <td>https://i.ytimg.com/vi/XpVt6Z1Gjjo/default.jpg</td>\n",
       "      <td>13.09</td>\n",
       "    </tr>\n",
       "    <tr>\n",
       "      <th>7</th>\n",
       "      <td>XpVt6Z1Gjjo</td>\n",
       "      <td>I've been following you from the start of your...</td>\n",
       "      <td>3</td>\n",
       "      <td>0</td>\n",
       "      <td>1 YEAR OF VLOGGING -- HOW LOGAN PAUL CHANGED Y...</td>\n",
       "      <td>Logan Paul Vlogs</td>\n",
       "      <td>24</td>\n",
       "      <td>logan paul vlog|logan paul|logan|paul|olympics...</td>\n",
       "      <td>4394029</td>\n",
       "      <td>320053</td>\n",
       "      <td>5931</td>\n",
       "      <td>46245</td>\n",
       "      <td>https://i.ytimg.com/vi/XpVt6Z1Gjjo/default.jpg</td>\n",
       "      <td>13.09</td>\n",
       "    </tr>\n",
       "    <tr>\n",
       "      <th>14</th>\n",
       "      <td>XpVt6Z1Gjjo</td>\n",
       "      <td>Say hi to Kong and maverick for me</td>\n",
       "      <td>3</td>\n",
       "      <td>0</td>\n",
       "      <td>1 YEAR OF VLOGGING -- HOW LOGAN PAUL CHANGED Y...</td>\n",
       "      <td>Logan Paul Vlogs</td>\n",
       "      <td>24</td>\n",
       "      <td>logan paul vlog|logan paul|logan|paul|olympics...</td>\n",
       "      <td>4394029</td>\n",
       "      <td>320053</td>\n",
       "      <td>5931</td>\n",
       "      <td>46245</td>\n",
       "      <td>https://i.ytimg.com/vi/XpVt6Z1Gjjo/default.jpg</td>\n",
       "      <td>13.09</td>\n",
       "    </tr>\n",
       "    <tr>\n",
       "      <th>21</th>\n",
       "      <td>XpVt6Z1Gjjo</td>\n",
       "      <td>MY FAN . attendance</td>\n",
       "      <td>3</td>\n",
       "      <td>0</td>\n",
       "      <td>1 YEAR OF VLOGGING -- HOW LOGAN PAUL CHANGED Y...</td>\n",
       "      <td>Logan Paul Vlogs</td>\n",
       "      <td>24</td>\n",
       "      <td>logan paul vlog|logan paul|logan|paul|olympics...</td>\n",
       "      <td>4394029</td>\n",
       "      <td>320053</td>\n",
       "      <td>5931</td>\n",
       "      <td>46245</td>\n",
       "      <td>https://i.ytimg.com/vi/XpVt6Z1Gjjo/default.jpg</td>\n",
       "      <td>13.09</td>\n",
       "    </tr>\n",
       "    <tr>\n",
       "      <th>28</th>\n",
       "      <td>XpVt6Z1Gjjo</td>\n",
       "      <td>trending 😉</td>\n",
       "      <td>3</td>\n",
       "      <td>0</td>\n",
       "      <td>1 YEAR OF VLOGGING -- HOW LOGAN PAUL CHANGED Y...</td>\n",
       "      <td>Logan Paul Vlogs</td>\n",
       "      <td>24</td>\n",
       "      <td>logan paul vlog|logan paul|logan|paul|olympics...</td>\n",
       "      <td>4394029</td>\n",
       "      <td>320053</td>\n",
       "      <td>5931</td>\n",
       "      <td>46245</td>\n",
       "      <td>https://i.ytimg.com/vi/XpVt6Z1Gjjo/default.jpg</td>\n",
       "      <td>13.09</td>\n",
       "    </tr>\n",
       "  </tbody>\n",
       "</table>\n",
       "</div>"
      ],
      "text/plain": [
       "       video_id                                       comment_text likes_x  \\\n",
       "0   XpVt6Z1Gjjo                  Logan Paul it's yo big day ‼️‼️‼️       4   \n",
       "7   XpVt6Z1Gjjo  I've been following you from the start of your...       3   \n",
       "14  XpVt6Z1Gjjo                 Say hi to Kong and maverick for me       3   \n",
       "21  XpVt6Z1Gjjo                                MY FAN . attendance       3   \n",
       "28  XpVt6Z1Gjjo                                         trending 😉       3   \n",
       "\n",
       "   replies                                              title  \\\n",
       "0        0  1 YEAR OF VLOGGING -- HOW LOGAN PAUL CHANGED Y...   \n",
       "7        0  1 YEAR OF VLOGGING -- HOW LOGAN PAUL CHANGED Y...   \n",
       "14       0  1 YEAR OF VLOGGING -- HOW LOGAN PAUL CHANGED Y...   \n",
       "21       0  1 YEAR OF VLOGGING -- HOW LOGAN PAUL CHANGED Y...   \n",
       "28       0  1 YEAR OF VLOGGING -- HOW LOGAN PAUL CHANGED Y...   \n",
       "\n",
       "       channel_title  category_id  \\\n",
       "0   Logan Paul Vlogs           24   \n",
       "7   Logan Paul Vlogs           24   \n",
       "14  Logan Paul Vlogs           24   \n",
       "21  Logan Paul Vlogs           24   \n",
       "28  Logan Paul Vlogs           24   \n",
       "\n",
       "                                                 tags    views  likes_y  \\\n",
       "0   logan paul vlog|logan paul|logan|paul|olympics...  4394029   320053   \n",
       "7   logan paul vlog|logan paul|logan|paul|olympics...  4394029   320053   \n",
       "14  logan paul vlog|logan paul|logan|paul|olympics...  4394029   320053   \n",
       "21  logan paul vlog|logan paul|logan|paul|olympics...  4394029   320053   \n",
       "28  logan paul vlog|logan paul|logan|paul|olympics...  4394029   320053   \n",
       "\n",
       "    dislikes  comment_total                                  thumbnail_link  \\\n",
       "0       5931          46245  https://i.ytimg.com/vi/XpVt6Z1Gjjo/default.jpg   \n",
       "7       5931          46245  https://i.ytimg.com/vi/XpVt6Z1Gjjo/default.jpg   \n",
       "14      5931          46245  https://i.ytimg.com/vi/XpVt6Z1Gjjo/default.jpg   \n",
       "21      5931          46245  https://i.ytimg.com/vi/XpVt6Z1Gjjo/default.jpg   \n",
       "28      5931          46245  https://i.ytimg.com/vi/XpVt6Z1Gjjo/default.jpg   \n",
       "\n",
       "     date  \n",
       "0   13.09  \n",
       "7   13.09  \n",
       "14  13.09  \n",
       "21  13.09  \n",
       "28  13.09  "
      ]
     },
     "execution_count": 10,
     "metadata": {},
     "output_type": "execute_result"
    }
   ],
   "source": [
    "df.head()"
   ]
  },
  {
   "cell_type": "code",
   "execution_count": 11,
   "metadata": {
    "ExecuteTime": {
     "end_time": "2018-08-24T21:27:57.381735Z",
     "start_time": "2018-08-24T21:27:57.194698Z"
    }
   },
   "outputs": [
    {
     "data": {
      "text/plain": [
       "(646835, 14)"
      ]
     },
     "execution_count": 11,
     "metadata": {},
     "output_type": "execute_result"
    }
   ],
   "source": [
    "# Drop all missing values\n",
    "df.dropna(axis=0, subset=['comment_text'], inplace=True)\n",
    "df.shape"
   ]
  },
  {
   "cell_type": "code",
   "execution_count": 12,
   "metadata": {
    "ExecuteTime": {
     "end_time": "2018-08-24T21:28:34.715912Z",
     "start_time": "2018-08-24T21:28:34.709027Z"
    },
    "scrolled": false
   },
   "outputs": [
    {
     "name": "stdout",
     "output_type": "stream",
     "text": [
      "1 Film & Animation\n",
      "2 Autos & Vehicles\n",
      "10 Music\n",
      "15 Pets & Animals\n",
      "17 Sports\n",
      "18 Short Movies\n",
      "19 Travel & Events\n",
      "20 Gaming\n",
      "21 Videoblogging\n",
      "22 People & Blogs\n",
      "23 Comedy\n",
      "24 Entertainment\n",
      "25 News & Politics\n",
      "26 Howto & Style\n",
      "27 Education\n",
      "28 Science & Technology\n",
      "29 Nonprofits & Activism\n",
      "30 Movies\n",
      "31 Anime/Animation\n",
      "32 Action/Adventure\n",
      "33 Classics\n",
      "34 Comedy\n",
      "35 Documentary\n",
      "36 Drama\n",
      "37 Family\n",
      "38 Foreign\n",
      "39 Horror\n",
      "40 Sci-Fi/Fantasy\n",
      "41 Thriller\n",
      "42 Shorts\n",
      "43 Shows\n",
      "44 Trailers\n"
     ]
    }
   ],
   "source": [
    "# Let's look at all the video categories\n",
    "for item in US_cats['items']:\n",
    "    print(item['id'], item['snippet']['title'])"
   ]
  },
  {
   "cell_type": "code",
   "execution_count": 13,
   "metadata": {
    "ExecuteTime": {
     "end_time": "2018-08-24T21:42:14.530809Z",
     "start_time": "2018-08-24T21:42:14.230866Z"
    }
   },
   "outputs": [],
   "source": [
    "# Split data to train and test\n",
    "train_df = df.sample(frac=0.8, random_state=5)"
   ]
  },
  {
   "cell_type": "markdown",
   "metadata": {},
   "source": [
    "## Text Preprocessing"
   ]
  },
  {
   "cell_type": "code",
   "execution_count": 14,
   "metadata": {
    "ExecuteTime": {
     "end_time": "2018-08-24T21:48:26.233340Z",
     "start_time": "2018-08-24T21:48:26.229420Z"
    }
   },
   "outputs": [],
   "source": [
    "x_train = train_df['comment_text']"
   ]
  },
  {
   "cell_type": "code",
   "execution_count": 15,
   "metadata": {
    "ExecuteTime": {
     "end_time": "2018-08-24T21:48:33.285213Z",
     "start_time": "2018-08-24T21:48:30.433059Z"
    }
   },
   "outputs": [],
   "source": [
    "# Change all text to lowercase\n",
    "x_train = train_df['comment_text'].apply(lambda x: ' '.join(x.lower() for x in x.split()))"
   ]
  },
  {
   "cell_type": "code",
   "execution_count": 16,
   "metadata": {
    "ExecuteTime": {
     "end_time": "2018-08-24T21:48:37.666277Z",
     "start_time": "2018-08-24T21:48:35.620249Z"
    }
   },
   "outputs": [],
   "source": [
    "# Remove punctuation and emojis\n",
    "x_train = x_train.str.replace('[^\\w\\s]','')"
   ]
  },
  {
   "cell_type": "code",
   "execution_count": 17,
   "metadata": {
    "ExecuteTime": {
     "end_time": "2018-08-24T21:48:47.504005Z",
     "start_time": "2018-08-24T21:48:46.668549Z"
    }
   },
   "outputs": [],
   "source": [
    "# Remove non-English characters\n",
    "new_x_train = []\n",
    "\n",
    "for sent in x_train:\n",
    "    new_x_train.append(sent.encode(\"ascii\", errors=\"ignore\").decode())\n",
    "\n",
    "x_train = pd.Series(new_x_train)"
   ]
  },
  {
   "cell_type": "code",
   "execution_count": 18,
   "metadata": {
    "ExecuteTime": {
     "end_time": "2018-08-24T21:49:30.631546Z",
     "start_time": "2018-08-24T21:49:30.611114Z"
    },
    "collapsed": true
   },
   "outputs": [
    {
     "data": {
      "text/plain": [
       "\"\\nwords = set(nltk.corpus.words.words())\\nstop = stopwords.words('english') ###can append more to this list\\n\\nx_train = x_train.apply(lambda x: ' '.join(w for w in x.split() if w not in stop))\\n\""
      ]
     },
     "execution_count": 18,
     "metadata": {},
     "output_type": "execute_result"
    }
   ],
   "source": [
    "# Not going to remove stopwords because will be losing info on context and structure of comments\n",
    "## Will remove stopwords when filtering for final common positive, negative and neutral comments.\n",
    "'''\n",
    "words = set(nltk.corpus.words.words())\n",
    "stop = stopwords.words('english') ###can append more to this list\n",
    "\n",
    "x_train = x_train.apply(lambda x: ' '.join(w for w in x.split() if w not in stop))\n",
    "'''"
   ]
  },
  {
   "cell_type": "code",
   "execution_count": 19,
   "metadata": {
    "ExecuteTime": {
     "end_time": "2018-08-24T21:49:44.762145Z",
     "start_time": "2018-08-24T21:49:44.758157Z"
    }
   },
   "outputs": [],
   "source": [
    "## Will not correct words, since 'ur' will be incorrectly corrected to 'or' instead of 'your' or 'you're\n",
    "\n",
    "#TextBlob('awsm').correct()\n",
    "\n",
    "#d = enchant.Dict('en_US')\n",
    "#d.suggest('awsm')"
   ]
  },
  {
   "cell_type": "code",
   "execution_count": 20,
   "metadata": {
    "ExecuteTime": {
     "end_time": "2018-08-24T23:08:50.801350Z",
     "start_time": "2018-08-24T23:08:46.944720Z"
    },
    "collapsed": true
   },
   "outputs": [
    {
     "data": {
      "text/plain": [
       "the        271593\n",
       "i          193204\n",
       "a          161802\n",
       "to         160012\n",
       "and        151635\n",
       "you        130916\n",
       "is         127004\n",
       "this       105883\n",
       "of         101084\n",
       "it          90323\n",
       "in          82026\n",
       "that        80103\n",
       "for         65163\n",
       "so          64348\n",
       "my          53526\n",
       "on          52804\n",
       "like        50871\n",
       "was         46488\n",
       "love        46020\n",
       "are         44833\n",
       "your        43744\n",
       "with        43341\n",
       "but         42426\n",
       "be          39881\n",
       "have        39837\n",
       "me          37588\n",
       "just        37187\n",
       "not         36331\n",
       "im          32309\n",
       "its         32294\n",
       "            ...  \n",
       "now         14543\n",
       "time        14127\n",
       "think       13951\n",
       "there       13829\n",
       "because     13752\n",
       "them        12837\n",
       "look        12727\n",
       "by          12664\n",
       "great       12496\n",
       "did         12465\n",
       "cant        12446\n",
       "please      12294\n",
       "should      12270\n",
       "only        12258\n",
       "go          11587\n",
       "some        11540\n",
       "lol         11514\n",
       "want        11438\n",
       "even        11384\n",
       "been        11136\n",
       "these       11117\n",
       "their       10878\n",
       "too         10815\n",
       "looks       10813\n",
       "got         10807\n",
       "had         10765\n",
       "him         10625\n",
       "amazing     10485\n",
       "best        10250\n",
       "u           10170\n",
       "Length: 100, dtype: int64"
      ]
     },
     "execution_count": 20,
     "metadata": {},
     "output_type": "execute_result"
    }
   ],
   "source": [
    "# Common words - want to keep since will provide more info on context later on.\n",
    "\n",
    "pd.Series(' '.join(x_train).split()).value_counts()[:100]"
   ]
  },
  {
   "cell_type": "code",
   "execution_count": 21,
   "metadata": {
    "ExecuteTime": {
     "end_time": "2018-08-24T23:08:55.008093Z",
     "start_time": "2018-08-24T23:08:54.998113Z"
    },
    "collapsed": true
   },
   "outputs": [
    {
     "data": {
      "text/plain": [
       "\"\\nx_train.apply(lambda x: ' '.join(w for w in nltk.wordpunct_tokenize(x) if w.lower() in words or not w.isalpha()))\\nx_train\\n\""
      ]
     },
     "execution_count": 21,
     "metadata": {},
     "output_type": "execute_result"
    }
   ],
   "source": [
    "# This will remove non-English words, but will not do, since this will also remove a lot of social media slang\n",
    "'''\n",
    "x_train.apply(lambda x: ' '.join(w for w in nltk.wordpunct_tokenize(x) if w.lower() in words or not w.isalpha()))\n",
    "x_train\n",
    "'''"
   ]
  },
  {
   "cell_type": "code",
   "execution_count": 22,
   "metadata": {
    "ExecuteTime": {
     "end_time": "2018-08-24T23:09:17.727835Z",
     "start_time": "2018-08-24T23:09:01.164772Z"
    }
   },
   "outputs": [],
   "source": [
    "# Remove rare words - will also remove any non-English words (rare words if count < 50) and reduce noise\n",
    "rare = pd.Series(' '.join(x_train).split()).value_counts()[-218100:]\n",
    "\n",
    "x_train = x_train.apply(lambda x: ' '.join(w for w in x.split() if w not in rare))"
   ]
  },
  {
   "cell_type": "markdown",
   "metadata": {},
   "source": [
    "## Categorizing comments by sentiment"
   ]
  },
  {
   "cell_type": "code",
   "execution_count": 23,
   "metadata": {
    "ExecuteTime": {
     "end_time": "2018-08-24T23:11:09.715068Z",
     "start_time": "2018-08-24T23:11:09.706713Z"
    }
   },
   "outputs": [],
   "source": [
    "def sort_comment_sentiment(text_list, pos_comments, neu_comments, neg_comments):\n",
    "    '''\n",
    "    Sentiment scoring of comments depends on the compound score. \n",
    "    The compound score is the sum of valence scores of each word in each comment. \n",
    "    All scores are normalized to be between -1 and 1. More documentation can be found in vaderSentiment.py of module.\n",
    "    '''\n",
    "    analyzer = SentimentIntensityAnalyzer()\n",
    " \n",
    "    for text in text_list:\n",
    "        all_score = analyzer.polarity_scores(text)\n",
    "        score = all_score['compound']\n",
    "        \n",
    "        if score > 0.1:\n",
    "            pos_comments.append(text)\n",
    "            \n",
    "        elif score > -0.1 and score <= 0.1:\n",
    "            neu_comments.append(text)\n",
    "        \n",
    "        else:\n",
    "            neg_comments.append(text) "
   ]
  },
  {
   "cell_type": "code",
   "execution_count": 24,
   "metadata": {
    "ExecuteTime": {
     "end_time": "2018-08-24T23:13:47.704254Z",
     "start_time": "2018-08-24T23:11:10.706626Z"
    }
   },
   "outputs": [],
   "source": [
    "positive_comments = []\n",
    "neutral_comments = []\n",
    "negative_comments = []\n",
    "\n",
    "sort_comment_sentiment(x_train, positive_comments, neutral_comments, negative_comments)"
   ]
  }
 ],
 "metadata": {
  "kernelspec": {
   "display_name": "Python 3",
   "language": "python",
   "name": "python3"
  },
  "language_info": {
   "codemirror_mode": {
    "name": "ipython",
    "version": 3
   },
   "file_extension": ".py",
   "mimetype": "text/x-python",
   "name": "python",
   "nbconvert_exporter": "python",
   "pygments_lexer": "ipython3",
   "version": "3.6.5"
  },
  "varInspector": {
   "cols": {
    "lenName": 16,
    "lenType": 16,
    "lenVar": 40
   },
   "kernels_config": {
    "python": {
     "delete_cmd_postfix": "",
     "delete_cmd_prefix": "del ",
     "library": "var_list.py",
     "varRefreshCmd": "print(var_dic_list())"
    },
    "r": {
     "delete_cmd_postfix": ") ",
     "delete_cmd_prefix": "rm(",
     "library": "var_list.r",
     "varRefreshCmd": "cat(var_dic_list()) "
    }
   },
   "types_to_exclude": [
    "module",
    "function",
    "builtin_function_or_method",
    "instance",
    "_Feature"
   ],
   "window_display": false
  }
 },
 "nbformat": 4,
 "nbformat_minor": 2
}
